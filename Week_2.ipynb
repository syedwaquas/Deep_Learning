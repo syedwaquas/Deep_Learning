{
  "cells": [
    {
      "cell_type": "markdown",
      "metadata": {
        "id": "quDlLWcAP31q"
      },
      "source": [
        "## MLP for Binary Classification\n",
        "\n",
        "In this lab, you will use the Ionosphere data binary (two-class) classification dataset to demonstrate an MLP for binary classification.\n",
        "\n",
        "This dataset involves predicting whether a structure is in the atmosphere or not given radar returns.\n",
        "\n",
        "The dataset will be downloaded automatically using Pandas, but you can learn more in the links below.\n",
        "\n",
        "[Ionosphere Dataset (csv)](https://raw.githubusercontent.com/jbrownlee/Datasets/master/ionosphere.csv)\n",
        "\n",
        "[Ionosphere Dataset Description (csv)](https://raw.githubusercontent.com/jbrownlee/Datasets/master/ionosphere.names)\n",
        "\n",
        "\n",
        "Your task for this is lab is to develop a Keras-based Multi-Layer Perceptron model for this data set. Remember the number of output layers is equal to the number of classes.\n",
        "\n",
        "Following we have provided some piece of code to you while you need to complete the rest of the code on your own.\n",
        "\n"
      ]
    },
    {
      "cell_type": "code",
      "execution_count": null,
      "metadata": {
        "id": "6086ipzNP31q"
      },
      "outputs": [],
      "source": [
        "# Importing Libraries\n",
        "\n",
        "# Your code to import read_csv class from pandas\n",
        "# Your code to import train_test_split class from sklearn. Follow link https://scikit-learn.org/stable/modules/generated/sklearn.model_selection.train_test_split.html\n",
        "from sklearn.preprocessing import LabelEncoder\n",
        "from tensorflow.keras import Sequential\n",
        "from tensorflow.keras.layers import Dense\n",
        "import pandas as pd\n"
      ]
    },
    {
      "cell_type": "markdown",
      "source": [
        "# Read the dataset from the path below. Store the data in a pandas dataframe named 'df'\n",
        "\n",
        "Link to API - https://pandas.pydata.org/docs/reference/api/pandas.read_csv.html"
      ],
      "metadata": {
        "id": "7755rFn_iDRj"
      }
    },
    {
      "cell_type": "code",
      "execution_count": null,
      "metadata": {
        "id": "058u-qkXP31r"
      },
      "outputs": [],
      "source": [
        "path = 'https://raw.githubusercontent.com/jbrownlee/Datasets/master/ionosphere.csv'\n",
        "# Your code to read the csv from the above path.\n",
        "df = pd.read_csv(path)"
      ]
    },
    {
      "cell_type": "markdown",
      "source": [
        "See the sample dataset. Print few rows of the dataset. Use dataframe.head() method.\n",
        "\n",
        "Link to API:  https://pandas.pydata.org/docs/reference/api/pandas.DataFrame.head.html"
      ],
      "metadata": {
        "id": "vG3n2OHrjQsG"
      }
    },
    {
      "cell_type": "code",
      "source": [
        "# Your code to print first few rows of the dataset.\n",
        "df.head()"
      ],
      "metadata": {
        "id": "jx3JTj4sfUIt",
        "colab": {
          "base_uri": "https://localhost:8080/",
          "height": 235
        },
        "outputId": "f6f61f1a-d8f9-4cdf-91a5-8ef785eb7c4b"
      },
      "execution_count": null,
      "outputs": [
        {
          "output_type": "execute_result",
          "data": {
            "text/plain": [
              "   1  0  0.99539  -0.05889  0.85243  0.02306  0.83398  -0.37708      1.1  \\\n",
              "0  1  0  1.00000  -0.18829  0.93035 -0.36156 -0.10868  -0.93597  1.00000   \n",
              "1  1  0  1.00000  -0.03365  1.00000  0.00485  1.00000  -0.12062  0.88965   \n",
              "2  1  0  1.00000  -0.45161  1.00000  1.00000  0.71216  -1.00000  0.00000   \n",
              "3  1  0  1.00000  -0.02401  0.94140  0.06531  0.92106  -0.23255  0.77152   \n",
              "4  1  0  0.02337  -0.00592 -0.09924 -0.11949 -0.00763  -0.11824  0.14706   \n",
              "\n",
              "   0.03760  ...  -0.51171  0.41078  -0.46168  0.21266  -0.34090  0.42267  \\\n",
              "0 -0.04549  ...  -0.26569 -0.20468  -0.18401 -0.19040  -0.11593 -0.16626   \n",
              "1  0.01198  ...  -0.40220  0.58984  -0.22145  0.43100  -0.17365  0.60436   \n",
              "2  0.00000  ...   0.90695  0.51613   1.00000  1.00000  -0.20099  0.25682   \n",
              "3 -0.16399  ...  -0.65158  0.13290  -0.53206  0.02431  -0.62197 -0.05707   \n",
              "4  0.06637  ...  -0.01535 -0.03240   0.09223 -0.07859   0.00732  0.00000   \n",
              "\n",
              "   -0.54487  0.18641  -0.45300  g  \n",
              "0  -0.06288 -0.13738  -0.02447  b  \n",
              "1  -0.24180  0.56045  -0.38238  g  \n",
              "2   1.00000 -0.32382   1.00000  b  \n",
              "3  -0.59573 -0.04608  -0.65697  g  \n",
              "4   0.00000 -0.00039   0.12011  b  \n",
              "\n",
              "[5 rows x 35 columns]"
            ],
            "text/html": [
              "\n",
              "  <div id=\"df-c6438f6e-f328-4514-b955-16db5df1b44b\" class=\"colab-df-container\">\n",
              "    <div>\n",
              "<style scoped>\n",
              "    .dataframe tbody tr th:only-of-type {\n",
              "        vertical-align: middle;\n",
              "    }\n",
              "\n",
              "    .dataframe tbody tr th {\n",
              "        vertical-align: top;\n",
              "    }\n",
              "\n",
              "    .dataframe thead th {\n",
              "        text-align: right;\n",
              "    }\n",
              "</style>\n",
              "<table border=\"1\" class=\"dataframe\">\n",
              "  <thead>\n",
              "    <tr style=\"text-align: right;\">\n",
              "      <th></th>\n",
              "      <th>1</th>\n",
              "      <th>0</th>\n",
              "      <th>0.99539</th>\n",
              "      <th>-0.05889</th>\n",
              "      <th>0.85243</th>\n",
              "      <th>0.02306</th>\n",
              "      <th>0.83398</th>\n",
              "      <th>-0.37708</th>\n",
              "      <th>1.1</th>\n",
              "      <th>0.03760</th>\n",
              "      <th>...</th>\n",
              "      <th>-0.51171</th>\n",
              "      <th>0.41078</th>\n",
              "      <th>-0.46168</th>\n",
              "      <th>0.21266</th>\n",
              "      <th>-0.34090</th>\n",
              "      <th>0.42267</th>\n",
              "      <th>-0.54487</th>\n",
              "      <th>0.18641</th>\n",
              "      <th>-0.45300</th>\n",
              "      <th>g</th>\n",
              "    </tr>\n",
              "  </thead>\n",
              "  <tbody>\n",
              "    <tr>\n",
              "      <th>0</th>\n",
              "      <td>1</td>\n",
              "      <td>0</td>\n",
              "      <td>1.00000</td>\n",
              "      <td>-0.18829</td>\n",
              "      <td>0.93035</td>\n",
              "      <td>-0.36156</td>\n",
              "      <td>-0.10868</td>\n",
              "      <td>-0.93597</td>\n",
              "      <td>1.00000</td>\n",
              "      <td>-0.04549</td>\n",
              "      <td>...</td>\n",
              "      <td>-0.26569</td>\n",
              "      <td>-0.20468</td>\n",
              "      <td>-0.18401</td>\n",
              "      <td>-0.19040</td>\n",
              "      <td>-0.11593</td>\n",
              "      <td>-0.16626</td>\n",
              "      <td>-0.06288</td>\n",
              "      <td>-0.13738</td>\n",
              "      <td>-0.02447</td>\n",
              "      <td>b</td>\n",
              "    </tr>\n",
              "    <tr>\n",
              "      <th>1</th>\n",
              "      <td>1</td>\n",
              "      <td>0</td>\n",
              "      <td>1.00000</td>\n",
              "      <td>-0.03365</td>\n",
              "      <td>1.00000</td>\n",
              "      <td>0.00485</td>\n",
              "      <td>1.00000</td>\n",
              "      <td>-0.12062</td>\n",
              "      <td>0.88965</td>\n",
              "      <td>0.01198</td>\n",
              "      <td>...</td>\n",
              "      <td>-0.40220</td>\n",
              "      <td>0.58984</td>\n",
              "      <td>-0.22145</td>\n",
              "      <td>0.43100</td>\n",
              "      <td>-0.17365</td>\n",
              "      <td>0.60436</td>\n",
              "      <td>-0.24180</td>\n",
              "      <td>0.56045</td>\n",
              "      <td>-0.38238</td>\n",
              "      <td>g</td>\n",
              "    </tr>\n",
              "    <tr>\n",
              "      <th>2</th>\n",
              "      <td>1</td>\n",
              "      <td>0</td>\n",
              "      <td>1.00000</td>\n",
              "      <td>-0.45161</td>\n",
              "      <td>1.00000</td>\n",
              "      <td>1.00000</td>\n",
              "      <td>0.71216</td>\n",
              "      <td>-1.00000</td>\n",
              "      <td>0.00000</td>\n",
              "      <td>0.00000</td>\n",
              "      <td>...</td>\n",
              "      <td>0.90695</td>\n",
              "      <td>0.51613</td>\n",
              "      <td>1.00000</td>\n",
              "      <td>1.00000</td>\n",
              "      <td>-0.20099</td>\n",
              "      <td>0.25682</td>\n",
              "      <td>1.00000</td>\n",
              "      <td>-0.32382</td>\n",
              "      <td>1.00000</td>\n",
              "      <td>b</td>\n",
              "    </tr>\n",
              "    <tr>\n",
              "      <th>3</th>\n",
              "      <td>1</td>\n",
              "      <td>0</td>\n",
              "      <td>1.00000</td>\n",
              "      <td>-0.02401</td>\n",
              "      <td>0.94140</td>\n",
              "      <td>0.06531</td>\n",
              "      <td>0.92106</td>\n",
              "      <td>-0.23255</td>\n",
              "      <td>0.77152</td>\n",
              "      <td>-0.16399</td>\n",
              "      <td>...</td>\n",
              "      <td>-0.65158</td>\n",
              "      <td>0.13290</td>\n",
              "      <td>-0.53206</td>\n",
              "      <td>0.02431</td>\n",
              "      <td>-0.62197</td>\n",
              "      <td>-0.05707</td>\n",
              "      <td>-0.59573</td>\n",
              "      <td>-0.04608</td>\n",
              "      <td>-0.65697</td>\n",
              "      <td>g</td>\n",
              "    </tr>\n",
              "    <tr>\n",
              "      <th>4</th>\n",
              "      <td>1</td>\n",
              "      <td>0</td>\n",
              "      <td>0.02337</td>\n",
              "      <td>-0.00592</td>\n",
              "      <td>-0.09924</td>\n",
              "      <td>-0.11949</td>\n",
              "      <td>-0.00763</td>\n",
              "      <td>-0.11824</td>\n",
              "      <td>0.14706</td>\n",
              "      <td>0.06637</td>\n",
              "      <td>...</td>\n",
              "      <td>-0.01535</td>\n",
              "      <td>-0.03240</td>\n",
              "      <td>0.09223</td>\n",
              "      <td>-0.07859</td>\n",
              "      <td>0.00732</td>\n",
              "      <td>0.00000</td>\n",
              "      <td>0.00000</td>\n",
              "      <td>-0.00039</td>\n",
              "      <td>0.12011</td>\n",
              "      <td>b</td>\n",
              "    </tr>\n",
              "  </tbody>\n",
              "</table>\n",
              "<p>5 rows × 35 columns</p>\n",
              "</div>\n",
              "    <div class=\"colab-df-buttons\">\n",
              "\n",
              "  <div class=\"colab-df-container\">\n",
              "    <button class=\"colab-df-convert\" onclick=\"convertToInteractive('df-c6438f6e-f328-4514-b955-16db5df1b44b')\"\n",
              "            title=\"Convert this dataframe to an interactive table.\"\n",
              "            style=\"display:none;\">\n",
              "\n",
              "  <svg xmlns=\"http://www.w3.org/2000/svg\" height=\"24px\" viewBox=\"0 -960 960 960\">\n",
              "    <path d=\"M120-120v-720h720v720H120Zm60-500h600v-160H180v160Zm220 220h160v-160H400v160Zm0 220h160v-160H400v160ZM180-400h160v-160H180v160Zm440 0h160v-160H620v160ZM180-180h160v-160H180v160Zm440 0h160v-160H620v160Z\"/>\n",
              "  </svg>\n",
              "    </button>\n",
              "\n",
              "  <style>\n",
              "    .colab-df-container {\n",
              "      display:flex;\n",
              "      gap: 12px;\n",
              "    }\n",
              "\n",
              "    .colab-df-convert {\n",
              "      background-color: #E8F0FE;\n",
              "      border: none;\n",
              "      border-radius: 50%;\n",
              "      cursor: pointer;\n",
              "      display: none;\n",
              "      fill: #1967D2;\n",
              "      height: 32px;\n",
              "      padding: 0 0 0 0;\n",
              "      width: 32px;\n",
              "    }\n",
              "\n",
              "    .colab-df-convert:hover {\n",
              "      background-color: #E2EBFA;\n",
              "      box-shadow: 0px 1px 2px rgba(60, 64, 67, 0.3), 0px 1px 3px 1px rgba(60, 64, 67, 0.15);\n",
              "      fill: #174EA6;\n",
              "    }\n",
              "\n",
              "    .colab-df-buttons div {\n",
              "      margin-bottom: 4px;\n",
              "    }\n",
              "\n",
              "    [theme=dark] .colab-df-convert {\n",
              "      background-color: #3B4455;\n",
              "      fill: #D2E3FC;\n",
              "    }\n",
              "\n",
              "    [theme=dark] .colab-df-convert:hover {\n",
              "      background-color: #434B5C;\n",
              "      box-shadow: 0px 1px 3px 1px rgba(0, 0, 0, 0.15);\n",
              "      filter: drop-shadow(0px 1px 2px rgba(0, 0, 0, 0.3));\n",
              "      fill: #FFFFFF;\n",
              "    }\n",
              "  </style>\n",
              "\n",
              "    <script>\n",
              "      const buttonEl =\n",
              "        document.querySelector('#df-c6438f6e-f328-4514-b955-16db5df1b44b button.colab-df-convert');\n",
              "      buttonEl.style.display =\n",
              "        google.colab.kernel.accessAllowed ? 'block' : 'none';\n",
              "\n",
              "      async function convertToInteractive(key) {\n",
              "        const element = document.querySelector('#df-c6438f6e-f328-4514-b955-16db5df1b44b');\n",
              "        const dataTable =\n",
              "          await google.colab.kernel.invokeFunction('convertToInteractive',\n",
              "                                                    [key], {});\n",
              "        if (!dataTable) return;\n",
              "\n",
              "        const docLinkHtml = 'Like what you see? Visit the ' +\n",
              "          '<a target=\"_blank\" href=https://colab.research.google.com/notebooks/data_table.ipynb>data table notebook</a>'\n",
              "          + ' to learn more about interactive tables.';\n",
              "        element.innerHTML = '';\n",
              "        dataTable['output_type'] = 'display_data';\n",
              "        await google.colab.output.renderOutput(dataTable, element);\n",
              "        const docLink = document.createElement('div');\n",
              "        docLink.innerHTML = docLinkHtml;\n",
              "        element.appendChild(docLink);\n",
              "      }\n",
              "    </script>\n",
              "  </div>\n",
              "\n",
              "\n",
              "<div id=\"df-949a645e-3de0-4b01-bdad-a52b31f69d04\">\n",
              "  <button class=\"colab-df-quickchart\" onclick=\"quickchart('df-949a645e-3de0-4b01-bdad-a52b31f69d04')\"\n",
              "            title=\"Suggest charts\"\n",
              "            style=\"display:none;\">\n",
              "\n",
              "<svg xmlns=\"http://www.w3.org/2000/svg\" height=\"24px\"viewBox=\"0 0 24 24\"\n",
              "     width=\"24px\">\n",
              "    <g>\n",
              "        <path d=\"M19 3H5c-1.1 0-2 .9-2 2v14c0 1.1.9 2 2 2h14c1.1 0 2-.9 2-2V5c0-1.1-.9-2-2-2zM9 17H7v-7h2v7zm4 0h-2V7h2v10zm4 0h-2v-4h2v4z\"/>\n",
              "    </g>\n",
              "</svg>\n",
              "  </button>\n",
              "\n",
              "<style>\n",
              "  .colab-df-quickchart {\n",
              "      --bg-color: #E8F0FE;\n",
              "      --fill-color: #1967D2;\n",
              "      --hover-bg-color: #E2EBFA;\n",
              "      --hover-fill-color: #174EA6;\n",
              "      --disabled-fill-color: #AAA;\n",
              "      --disabled-bg-color: #DDD;\n",
              "  }\n",
              "\n",
              "  [theme=dark] .colab-df-quickchart {\n",
              "      --bg-color: #3B4455;\n",
              "      --fill-color: #D2E3FC;\n",
              "      --hover-bg-color: #434B5C;\n",
              "      --hover-fill-color: #FFFFFF;\n",
              "      --disabled-bg-color: #3B4455;\n",
              "      --disabled-fill-color: #666;\n",
              "  }\n",
              "\n",
              "  .colab-df-quickchart {\n",
              "    background-color: var(--bg-color);\n",
              "    border: none;\n",
              "    border-radius: 50%;\n",
              "    cursor: pointer;\n",
              "    display: none;\n",
              "    fill: var(--fill-color);\n",
              "    height: 32px;\n",
              "    padding: 0;\n",
              "    width: 32px;\n",
              "  }\n",
              "\n",
              "  .colab-df-quickchart:hover {\n",
              "    background-color: var(--hover-bg-color);\n",
              "    box-shadow: 0 1px 2px rgba(60, 64, 67, 0.3), 0 1px 3px 1px rgba(60, 64, 67, 0.15);\n",
              "    fill: var(--button-hover-fill-color);\n",
              "  }\n",
              "\n",
              "  .colab-df-quickchart-complete:disabled,\n",
              "  .colab-df-quickchart-complete:disabled:hover {\n",
              "    background-color: var(--disabled-bg-color);\n",
              "    fill: var(--disabled-fill-color);\n",
              "    box-shadow: none;\n",
              "  }\n",
              "\n",
              "  .colab-df-spinner {\n",
              "    border: 2px solid var(--fill-color);\n",
              "    border-color: transparent;\n",
              "    border-bottom-color: var(--fill-color);\n",
              "    animation:\n",
              "      spin 1s steps(1) infinite;\n",
              "  }\n",
              "\n",
              "  @keyframes spin {\n",
              "    0% {\n",
              "      border-color: transparent;\n",
              "      border-bottom-color: var(--fill-color);\n",
              "      border-left-color: var(--fill-color);\n",
              "    }\n",
              "    20% {\n",
              "      border-color: transparent;\n",
              "      border-left-color: var(--fill-color);\n",
              "      border-top-color: var(--fill-color);\n",
              "    }\n",
              "    30% {\n",
              "      border-color: transparent;\n",
              "      border-left-color: var(--fill-color);\n",
              "      border-top-color: var(--fill-color);\n",
              "      border-right-color: var(--fill-color);\n",
              "    }\n",
              "    40% {\n",
              "      border-color: transparent;\n",
              "      border-right-color: var(--fill-color);\n",
              "      border-top-color: var(--fill-color);\n",
              "    }\n",
              "    60% {\n",
              "      border-color: transparent;\n",
              "      border-right-color: var(--fill-color);\n",
              "    }\n",
              "    80% {\n",
              "      border-color: transparent;\n",
              "      border-right-color: var(--fill-color);\n",
              "      border-bottom-color: var(--fill-color);\n",
              "    }\n",
              "    90% {\n",
              "      border-color: transparent;\n",
              "      border-bottom-color: var(--fill-color);\n",
              "    }\n",
              "  }\n",
              "</style>\n",
              "\n",
              "  <script>\n",
              "    async function quickchart(key) {\n",
              "      const quickchartButtonEl =\n",
              "        document.querySelector('#' + key + ' button');\n",
              "      quickchartButtonEl.disabled = true;  // To prevent multiple clicks.\n",
              "      quickchartButtonEl.classList.add('colab-df-spinner');\n",
              "      try {\n",
              "        const charts = await google.colab.kernel.invokeFunction(\n",
              "            'suggestCharts', [key], {});\n",
              "      } catch (error) {\n",
              "        console.error('Error during call to suggestCharts:', error);\n",
              "      }\n",
              "      quickchartButtonEl.classList.remove('colab-df-spinner');\n",
              "      quickchartButtonEl.classList.add('colab-df-quickchart-complete');\n",
              "    }\n",
              "    (() => {\n",
              "      let quickchartButtonEl =\n",
              "        document.querySelector('#df-949a645e-3de0-4b01-bdad-a52b31f69d04 button');\n",
              "      quickchartButtonEl.style.display =\n",
              "        google.colab.kernel.accessAllowed ? 'block' : 'none';\n",
              "    })();\n",
              "  </script>\n",
              "</div>\n",
              "    </div>\n",
              "  </div>\n"
            ]
          },
          "metadata": {},
          "execution_count": 3
        }
      ]
    },
    {
      "cell_type": "markdown",
      "source": [
        "Print the basic info of the dataset. Use dataframe.info() from pandas library\n"
      ],
      "metadata": {
        "id": "uo8Siqyxfhj7"
      }
    },
    {
      "cell_type": "code",
      "source": [
        "# Your code to print information about the dataframe\n",
        "df.info()"
      ],
      "metadata": {
        "id": "VgN9rYV_fiag",
        "colab": {
          "base_uri": "https://localhost:8080/"
        },
        "outputId": "767b2402-caf3-451d-d56e-a6823beda797"
      },
      "execution_count": null,
      "outputs": [
        {
          "output_type": "stream",
          "name": "stdout",
          "text": [
            "<class 'pandas.core.frame.DataFrame'>\n",
            "RangeIndex: 350 entries, 0 to 349\n",
            "Data columns (total 35 columns):\n",
            " #   Column     Non-Null Count  Dtype  \n",
            "---  ------     --------------  -----  \n",
            " 0   1          350 non-null    int64  \n",
            " 1   0          350 non-null    int64  \n",
            " 2   0.99539    350 non-null    float64\n",
            " 3   -0.05889   350 non-null    float64\n",
            " 4   0.85243    350 non-null    float64\n",
            " 5   0.02306    350 non-null    float64\n",
            " 6   0.83398    350 non-null    float64\n",
            " 7   -0.37708   350 non-null    float64\n",
            " 8   1.1        350 non-null    float64\n",
            " 9   0.03760    350 non-null    float64\n",
            " 10  0.85243.1  350 non-null    float64\n",
            " 11  -0.17755   350 non-null    float64\n",
            " 12  0.59755    350 non-null    float64\n",
            " 13  -0.44945   350 non-null    float64\n",
            " 14  0.60536    350 non-null    float64\n",
            " 15  -0.38223   350 non-null    float64\n",
            " 16  0.84356    350 non-null    float64\n",
            " 17  -0.38542   350 non-null    float64\n",
            " 18  0.58212    350 non-null    float64\n",
            " 19  -0.32192   350 non-null    float64\n",
            " 20  0.56971    350 non-null    float64\n",
            " 21  -0.29674   350 non-null    float64\n",
            " 22  0.36946    350 non-null    float64\n",
            " 23  -0.47357   350 non-null    float64\n",
            " 24  0.56811    350 non-null    float64\n",
            " 25  -0.51171   350 non-null    float64\n",
            " 26  0.41078    350 non-null    float64\n",
            " 27  -0.46168   350 non-null    float64\n",
            " 28  0.21266    350 non-null    float64\n",
            " 29  -0.34090   350 non-null    float64\n",
            " 30  0.42267    350 non-null    float64\n",
            " 31  -0.54487   350 non-null    float64\n",
            " 32  0.18641    350 non-null    float64\n",
            " 33  -0.45300   350 non-null    float64\n",
            " 34  g          350 non-null    object \n",
            "dtypes: float64(32), int64(2), object(1)\n",
            "memory usage: 95.8+ KB\n"
          ]
        }
      ]
    },
    {
      "cell_type": "markdown",
      "source": [
        "Print the shape of the dataframe. Select suitable API call from the pandas library"
      ],
      "metadata": {
        "id": "AX_YFAb4kdl4"
      }
    },
    {
      "cell_type": "code",
      "source": [
        "# Your code to print the shape of the dataset\n",
        "df.shape"
      ],
      "metadata": {
        "id": "rlfCOssvf44O",
        "colab": {
          "base_uri": "https://localhost:8080/"
        },
        "outputId": "914a139d-6a49-4bc3-92aa-b8acd21165dd"
      },
      "execution_count": null,
      "outputs": [
        {
          "output_type": "execute_result",
          "data": {
            "text/plain": [
              "(350, 35)"
            ]
          },
          "metadata": {},
          "execution_count": 5
        }
      ]
    },
    {
      "cell_type": "markdown",
      "source": [
        "# Separate the input and output from the dataframe. Input is all columns besides last column. Output is the last column.\n"
      ],
      "metadata": {
        "id": "aekdoY2zkxU4"
      }
    },
    {
      "cell_type": "code",
      "execution_count": null,
      "metadata": {
        "id": "_5bh8al2P31s"
      },
      "outputs": [],
      "source": [
        "X = df.values[:, :-1]\n",
        "# Your code to get y - Hint y = df.values[:, some parameters]\n",
        "y = df.values[:, -1]"
      ]
    },
    {
      "cell_type": "code",
      "source": [
        "y"
      ],
      "metadata": {
        "id": "wGJA_qjQ26oi"
      },
      "execution_count": null,
      "outputs": []
    },
    {
      "cell_type": "markdown",
      "source": [
        "We have converted everthing in X to 'float' and the letters in column y to the numbers in the following cell."
      ],
      "metadata": {
        "id": "t7y3GhJDloqk"
      }
    },
    {
      "cell_type": "code",
      "source": [
        "X = X.astype('float32')\n",
        "y = LabelEncoder().fit_transform(y)"
      ],
      "metadata": {
        "id": "qVtPf2F9lg17"
      },
      "execution_count": null,
      "outputs": []
    },
    {
      "cell_type": "markdown",
      "source": [
        "Printing the genral information of the X and y in the following cell"
      ],
      "metadata": {
        "id": "EZ_aY4H3l9bI"
      }
    },
    {
      "cell_type": "code",
      "source": [
        "# Your code to print X\n",
        "# Your code to print y\n",
        "# your code to print shape of X. Remember X is a numpy array\n",
        "# your code to print shape of y. Remember y is a numpy array\n",
        "\n",
        "# Print X\n",
        "print(\"X:\")\n",
        "print(X)\n",
        "\n",
        "# Print y\n",
        "print(\"\\ny:\")\n",
        "print(y)\n",
        "\n",
        "# Print shape of X and y\n",
        "print(\"\\nShape of X:\", X.shape)\n",
        "print(\"Shape of y:\", y.shape)"
      ],
      "metadata": {
        "id": "BWBOMrBigew9",
        "colab": {
          "base_uri": "https://localhost:8080/"
        },
        "outputId": "54ad9ef6-2346-4684-b9aa-34183b9363de"
      },
      "execution_count": null,
      "outputs": [
        {
          "output_type": "stream",
          "name": "stdout",
          "text": [
            "X:\n",
            "[[ 1.       0.       1.      ... -0.06288 -0.13738 -0.02447]\n",
            " [ 1.       0.       1.      ... -0.2418   0.56045 -0.38238]\n",
            " [ 1.       0.       1.      ...  1.      -0.32382  1.     ]\n",
            " ...\n",
            " [ 1.       0.       0.94701 ...  0.00442  0.92697 -0.00577]\n",
            " [ 1.       0.       0.90608 ... -0.03757  0.87403 -0.16243]\n",
            " [ 1.       0.       0.8471  ... -0.06678  0.85764 -0.06151]]\n",
            "\n",
            "y:\n",
            "[0 1 0 1 0 1 0 1 0 1 0 1 0 1 0 1 0 1 0 1 0 1 0 1 0 1 0 1 0 1 0 1 0 1 0 1 0\n",
            " 1 0 1 0 1 0 1 0 1 0 1 0 1 0 1 0 1 0 1 0 1 0 1 0 1 0 1 0 1 0 1 0 1 0 1 0 1\n",
            " 0 1 0 1 0 1 0 1 0 1 0 1 0 1 0 1 0 1 0 1 0 1 1 0 1 0 1 0 1 0 1 0 1 0 1 0 1\n",
            " 0 1 0 1 0 1 0 1 0 1 0 1 0 1 0 1 0 1 0 1 0 1 0 1 0 1 0 1 0 1 0 1 0 1 0 1 0\n",
            " 1 0 1 0 1 0 1 0 1 0 1 0 1 0 1 0 1 0 1 0 1 0 1 0 1 0 1 0 1 0 1 0 1 0 1 0 1\n",
            " 0 1 0 1 0 1 0 1 0 1 0 1 0 1 0 1 0 1 0 1 0 1 0 1 0 1 0 1 0 1 0 1 0 1 0 1 0\n",
            " 1 0 1 0 1 0 1 0 1 0 1 0 1 0 1 0 1 0 1 0 1 0 1 0 1 0 1 0 1 0 1 1 1 1 1 1 1\n",
            " 1 1 1 1 1 1 1 1 1 1 1 1 1 1 1 1 1 1 1 1 1 1 1 1 1 1 1 1 1 1 1 1 1 1 1 1 1\n",
            " 1 1 1 1 1 1 1 1 1 1 1 1 1 1 1 1 1 1 1 1 1 1 1 1 1 1 1 1 1 1 1 1 1 1 1 1 1\n",
            " 1 1 1 1 1 1 1 1 1 1 1 1 1 1 1 1 1]\n",
            "\n",
            "Shape of X: (350, 34)\n",
            "Shape of y: (350,)\n"
          ]
        }
      ]
    },
    {
      "cell_type": "markdown",
      "source": [
        "* Separate X and y into training and test set with a ratio of your choice.\n",
        "* Print the shapes of the resulting arrays.\n",
        "* Get the number of features from X_train. Remember the number of features are the number of inputs.\n",
        "\n",
        "Use sklearn train_test_split class.\n",
        "https://scikit-learn.org/stable/modules/generated/sklearn.model_selection.train_test_split.html\n"
      ],
      "metadata": {
        "id": "f9ltrLLqmkgW"
      }
    },
    {
      "cell_type": "code",
      "execution_count": null,
      "metadata": {
        "id": "-CjFJcAMP31s",
        "colab": {
          "base_uri": "https://localhost:8080/"
        },
        "outputId": "80c1b147-4119-4d9e-ab05-5a70d673f5ba"
      },
      "outputs": [
        {
          "output_type": "stream",
          "name": "stdout",
          "text": [
            "Shape of X_train: (280, 34)\n",
            "Shape of X_test: (70, 34)\n",
            "Shape of y_train: (280,)\n",
            "Shape of y_test: (70,)\n"
          ]
        }
      ],
      "source": [
        "# Your code to separate the data into trauning and test set.\n",
        "from sklearn.model_selection import train_test_split\n",
        "X_train, X_test, y_train, y_test = train_test_split(X, y, test_size=0.2, random_state=42)\n",
        "\n",
        "# Your code to print shape of X_train\n",
        "# Your code to print shape of X_test\n",
        "# Your code to print shape of y_train\n",
        "# Your code to print shape of X_test\n",
        "print(\"Shape of X_train:\", X_train.shape)\n",
        "print(\"Shape of X_test:\", X_test.shape)\n",
        "print(\"Shape of y_train:\", y_train.shape)\n",
        "print(\"Shape of y_test:\", y_test.shape)\n",
        "\n",
        "n_features = X_train.shape[1]"
      ]
    },
    {
      "cell_type": "markdown",
      "source": [
        "# Creating a Multi-layer Perceptron using Keras.\n",
        "We have added first and last layers. Create the hidden layers of your choise.\n",
        "You can chose any number of hidden layers and activation function of your chose\n",
        "https://keras.io/api/layers/core_layers/dense/"
      ],
      "metadata": {
        "id": "dQdqYXJ9pqzC"
      }
    },
    {
      "cell_type": "code",
      "execution_count": null,
      "metadata": {
        "id": "hhTE3u-_P31t"
      },
      "outputs": [],
      "source": [
        "model = Sequential()\n",
        "model.add(Dense(10, activation='relu', input_shape=(n_features,)))\n",
        "#\n",
        "# Add as many layers with activation functions of your choice\n",
        "#\n",
        "model.add(Dense(20, activation='relu'))\n",
        "model.add(Dense(15, activation='relu'))\n",
        "model.add(Dense(10, activation='relu'))\n",
        "\n",
        "# # Add more hidden layers to increase complexity\n",
        "# model.add(Dense(8, activation='relu'))\n",
        "# model.add(Dense(5, activation='relu'))\n",
        "\n",
        "\n",
        "model.add(Dense(1, activation='sigmoid'))"
      ]
    },
    {
      "cell_type": "markdown",
      "source": [
        "In the next cell, we trained the above neural network model and tested its accuracy. As this concept has still not benn covered in the class, just run the code to check the accuracy."
      ],
      "metadata": {
        "id": "2NtBU922rH67"
      }
    },
    {
      "cell_type": "code",
      "execution_count": null,
      "metadata": {
        "id": "krgB1SuRP31t",
        "colab": {
          "base_uri": "https://localhost:8080/"
        },
        "outputId": "c0306aa5-a1b4-46ec-c8be-723242bb365f"
      },
      "outputs": [
        {
          "output_type": "stream",
          "name": "stdout",
          "text": [
            "Test Accuracy: 0.871\n"
          ]
        }
      ],
      "source": [
        "model.compile(optimizer='adam', loss='binary_crossentropy', metrics=['accuracy'])\n",
        "model.fit(X_train, y_train, epochs=150, batch_size=32, verbose=0)\n",
        "\n",
        "loss, acc = model.evaluate(X_test, y_test, verbose=0)\n",
        "print('Test Accuracy: %.3f' % acc)"
      ]
    },
    {
      "cell_type": "markdown",
      "source": [
        "** How much accuracy have you got? Compare the accuracy with your peers. **\n",
        "** Now, change your model and activation function to get the better accuracy as compared to your peers **"
      ],
      "metadata": {
        "id": "8ReYGy_jsCh0"
      }
    },
    {
      "cell_type": "markdown",
      "source": [
        "## **Important:** Document in your lab logbook the accuracy of the improved model. Do not include any code or explanations in your lab logbook. Simply record the accuracy. For example, if the obtained accuracy is 0.98, then enter \"0.98\" in your lab logbook.\n",
        "\n",
        "## In addition to the accuracy, also document the output of the neural network as provided in Task 2.\n"
      ],
      "metadata": {
        "id": "rmeq5l1edZPg"
      }
    },
    {
      "cell_type": "markdown",
      "source": [
        "\n",
        "Next, we have provided the code to predict on an unknown value.\n",
        "We will cover these concepts later in the class. For now, just run the code to see the prediction."
      ],
      "metadata": {
        "id": "ZFNL8fY2rd41"
      }
    },
    {
      "cell_type": "code",
      "execution_count": null,
      "metadata": {
        "id": "kXV7gQRAP31u",
        "outputId": "63546755-3ecf-42f9-ad4a-2da43a7758f6",
        "colab": {
          "base_uri": "https://localhost:8080/"
        }
      },
      "outputs": [
        {
          "output_type": "stream",
          "name": "stdout",
          "text": [
            "1/1 [==============================] - 0s 199ms/step\n",
            "Predicted: 1.000\n"
          ]
        }
      ],
      "source": [
        "row = [1,0,0.99539,-0.05889,0.85243,0.02306,\n",
        "       0.83398,-0.37708,1,0.03760,0.85243,-0.17755,\n",
        "       0.59755,-0.44945,0.60536,-0.38223,0.84356,\n",
        "       -0.38542,0.58212,-0.32192,0.56971,-0.29674,0.36946,\n",
        "       -0.47357,0.56811,-0.51171,0.41078,-0.46168,0.21266,\n",
        "       -0.34090,0.42267,-0.54487,0.18641,-0.45300]\n",
        "yhat = model.predict([row])\n",
        "print('Predicted: %.3f' % yhat)"
      ]
    },
    {
      "cell_type": "markdown",
      "metadata": {
        "id": "bNFK4kV9P31u"
      },
      "source": [
        "### Try out the same model with Keras Functional models!\n",
        "Refer to [Keras](https://keras.io/) for more details and tutorials for the same."
      ]
    },
    {
      "cell_type": "code",
      "source": [
        "import math\n",
        "\n",
        "# Get SSID input\n",
        "ssid = input(\"Enter SSID: \")\n",
        "\n",
        "# Calculate inputs based on SSID\n",
        "x1 = (int(ssid)/8964879)*23\n",
        "x2 = (int(ssid)/8964879)*32\n",
        "x3 = (int(ssid)/8964879)*56\n",
        "x4 = (int(ssid)/8964879)*48\n",
        "\n",
        "# Weights and biases\n",
        "\n",
        "# Hidden layer\n",
        "w11 = 0.2\n",
        "w12 = 0.2\n",
        "w13 = 0.2\n",
        "w14 = 0.2\n",
        "\n",
        "w21 = 0.2\n",
        "w22 = 0.2\n",
        "w23 = 0.2\n",
        "w24 = 0.2\n",
        "\n",
        "w31=0.1\n",
        "w32=0.1\n",
        "\n",
        "w41=0.1\n",
        "w42=0.1\n",
        "\n",
        "# Output layer\n",
        "w = 0.1\n",
        "b = 0.5\n",
        "\n",
        "def relu(x):\n",
        "    return max(0, x)\n",
        "\n",
        "# Calculate hidden layer activations\n",
        "h1 = relu(x1*w11 + x2*w12 + x3*w13 + x4*w14 )\n",
        "h2 = relu(x1*w21 + x2*w22 + x3*w23 + x4*w24 )\n",
        "\n",
        "h3 = relu(h1*w31 + h1*w32  )\n",
        "h4 = relu(h2*w41 + h2*w42 )\n",
        "# Implement sigmoid manually\n",
        "def sigmoid(x):\n",
        "    return 1 / (1 + math.exp(-x))\n",
        "\n",
        "# Calculate output\n",
        "y1 = sigmoid(h3*w + h4*w + b)\n",
        "y2 = sigmoid(h3*w + h4*w + b)\n",
        "\n",
        "print(y1)\n",
        "print(y2)"
      ],
      "metadata": {
        "colab": {
          "base_uri": "https://localhost:8080/"
        },
        "id": "KBu58JOc469U",
        "outputId": "445c1e8f-2fe8-4786-9c9a-f5df56f2aa99"
      },
      "execution_count": null,
      "outputs": [
        {
          "output_type": "stream",
          "name": "stdout",
          "text": [
            "Enter SSID: 2315119\n",
            "0.6960345686960417\n",
            "0.6960345686960417\n"
          ]
        }
      ]
    },
    {
      "cell_type": "code",
      "source": [
        "import numpy as np\n",
        "\n",
        "def sigmoid(x):\n",
        "    return 1 / (1 + np.exp(-x))\n",
        "\n",
        "def sigmoid_derivative(x):\n",
        "    return x * (1 - x)\n",
        "\n",
        "# Weights and biases\n",
        "w1, w2, w3 = 0.1, 0.2, 0.3\n",
        "w4, w5, w6 = 0.4, 0.5, 0.6\n",
        "w7, w8, w9 = 0.7, 0.8, 0.9\n",
        "w10 = 0.1\n",
        "\n",
        "b1, b2 = 0.5, 0.5\n",
        "\n",
        "# Input data\n",
        "x = np.array([1, 4, 5])\n",
        "\n",
        "# Target output\n",
        "target_output = np.array([0.1, 0.05])\n",
        "\n",
        "# Learning rate\n",
        "learning_rate = 0.01\n",
        "\n",
        "# Number of epochs\n",
        "epochs = 1\n",
        "\n",
        "# Training loop\n",
        "for epoch in range(epochs):\n",
        "\n",
        "    # Forward propagation\n",
        "    z_h1 = x[0]*w1 + x[1]*w3 + x[2]*w5 + b1\n",
        "    h1 = sigmoid(z_h1)\n",
        "    z_h2 = x[0]*w2 + x[1]*w4 + x[2]*w6 + b1\n",
        "    h2 = sigmoid(z_h2)\n",
        "\n",
        "    z_o1 = h1*w7 + h2*w9 + b2\n",
        "    o1 = sigmoid(z_o1)\n",
        "    z_o2 = h1*w8 + h2*w10 + b2\n",
        "    o2 = sigmoid(z_o2)\n",
        "\n",
        "    # Backpropagation\n",
        "    d_L_d_o1 = 2*(o1 - target_output[0]) * sigmoid_derivative(o1)\n",
        "    d_L_d_o2 = 2*(o2 - target_output[1]) * sigmoid_derivative(o2)\n",
        "\n",
        "    d_L_d_w7 = h1 * d_L_d_o1\n",
        "    d_L_d_w8 = h2 * d_L_d_o1\n",
        "    d_L_d_w9 = h1 * d_L_d_o2\n",
        "    d_L_d_w10 = h2 * d_L_d_o2\n",
        "\n",
        "    d_L_d_h1 = w7 * d_L_d_o1 + w8 * d_L_d_o2\n",
        "    d_L_d_h2 = w9 * d_L_d_o1 + w10 * d_L_d_o2\n",
        "\n",
        "    d_L_d_w1 = x[0] * d_L_d_h1 * sigmoid_derivative(z_h1)\n",
        "    d_L_d_w2 = x[0] * d_L_d_h2 * sigmoid_derivative(z_h2)\n",
        "\n",
        "    # Update weights\n",
        "    # Update weights\n",
        "    w1 -= learning_rate * d_L_d_w1\n",
        "    w2 -= learning_rate * d_L_d_w2\n",
        "    w3 -= learning_rate * x[1] * d_L_d_h1 * sigmoid_derivative(z_h1)\n",
        "    w4 -= learning_rate * x[1] * d_L_d_h2 * sigmoid_derivative(z_h2)\n",
        "    w5 -= learning_rate * x[2] * d_L_d_h1 * sigmoid_derivative(z_h1)\n",
        "    w6 -= learning_rate * x[2] * d_L_d_h2 * sigmoid_derivative(z_h2)\n",
        "\n",
        "    w7 -= learning_rate * d_L_d_w7\n",
        "    w8 -= learning_rate * d_L_d_w8\n",
        "    w9 -= learning_rate * d_L_d_w9\n",
        "    w10 -= learning_rate * d_L_d_w10\n",
        "\n",
        "    b1 -= learning_rate * (d_L_d_h1 + d_L_d_h2)\n",
        "    b2 -= learning_rate * (d_L_d_o1 + d_L_d_o2)\n",
        "print(\"Final Predicted Output:\")\n",
        "print(o1, o2)\n",
        "print(\"\\nWeights:\")\n",
        "print(\"w1:\", w1)\n",
        "print(\"w2:\", w2)\n",
        "print(\"w3:\", w3)\n",
        "print(\"w4:\", w4)\n",
        "print(\"w5:\", w5)\n",
        "print(\"w6:\", w6)\n",
        "print(\"w7:\", w7)\n",
        "print(\"w8:\", w8)\n",
        "print(\"w9:\", w9)\n",
        "print(\"w10:\", w10)\n",
        "\n",
        "print(\"\\nBiases:\")\n",
        "print(\"b1:\", b1)\n",
        "print(\"b2:\", b2)"
      ],
      "metadata": {
        "id": "7TIJoseKe3Me",
        "colab": {
          "base_uri": "https://localhost:8080/"
        },
        "outputId": "a9f2e587-b2da-4e57-8f25-649985ed1fc8"
      },
      "execution_count": null,
      "outputs": [
        {
          "output_type": "stream",
          "name": "stdout",
          "text": [
            "Final Predicted Output:\n",
            "0.889550613969795 0.8003996080673895\n",
            "\n",
            "Weights:\n",
            "w1: 0.1426292115450811\n",
            "w2: 0.2372865501866814\n",
            "w3: 0.47051684618032436\n",
            "w4: 0.5491462007467256\n",
            "w5: 0.7131460577254054\n",
            "w6: 0.786432750933407\n",
            "w7: 0.6984692974318825\n",
            "w8: 0.7984562338574279\n",
            "w9: 0.8976344195574385\n",
            "w10: 0.0976142308304555\n",
            "\n",
            "Biases:\n",
            "b1: 0.495359734641656\n",
            "b2: 0.4960508500433624\n"
          ]
        }
      ]
    }
  ],
  "metadata": {
    "kernelspec": {
      "display_name": "Python 3",
      "language": "python",
      "name": "python3"
    },
    "language_info": {
      "codemirror_mode": {
        "name": "ipython",
        "version": 3
      },
      "file_extension": ".py",
      "mimetype": "text/x-python",
      "name": "python",
      "nbconvert_exporter": "python",
      "pygments_lexer": "ipython3",
      "version": "3.7.3"
    },
    "colab": {
      "provenance": []
    }
  },
  "nbformat": 4,
  "nbformat_minor": 0
}