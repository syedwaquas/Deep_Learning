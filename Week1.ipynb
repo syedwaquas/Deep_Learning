{
  "cells": [
    {
      "cell_type": "markdown",
      "metadata": {
        "id": "G5LNAKX6y7cn"
      },
      "source": [
        "# Week-1\n",
        "\n",
        "# Linear Regression Example using tensorflow\n",
        "Linear regression implementation with TensorFlow v2 library.\n",
        "\n",
        "This example is using a low-level approach to better understand all mechanics behind the training process.\n"
      ]
    },
    {
      "cell_type": "markdown",
      "metadata": {
        "id": "BjWUoSK2y7co"
      },
      "source": [
        "![image.png](attachment:image.png)"
      ]
    },
    {
      "cell_type": "code",
      "execution_count": null,
      "metadata": {
        "id": "wZX2Tngzy7cp"
      },
      "outputs": [],
      "source": [
        "import tensorflow as tf\n",
        "import matplotlib.pyplot as plt\n",
        "import numpy as np\n",
        "rng=np.random"
      ]
    },
    {
      "cell_type": "code",
      "execution_count": null,
      "metadata": {
        "id": "qt7aOt9Cy7cp"
      },
      "outputs": [],
      "source": [
        "learning_rate=0.01\n",
        "training_steps=1000\n",
        "display_step=50"
      ]
    },
    {
      "cell_type": "markdown",
      "metadata": {
        "id": "VBOdmG8my7cp"
      },
      "source": [
        "![image.png](attachment:image.png)"
      ]
    },
    {
      "cell_type": "code",
      "execution_count": null,
      "metadata": {
        "id": "m2KtQp5Py7cp"
      },
      "outputs": [],
      "source": []
    },
    {
      "cell_type": "code",
      "execution_count": null,
      "metadata": {
        "id": "np6LV_3Ny7cq"
      },
      "outputs": [],
      "source": []
    },
    {
      "cell_type": "code",
      "execution_count": null,
      "metadata": {
        "id": "O1K952f3y7cq"
      },
      "outputs": [],
      "source": [
        "# Just run the next cell using 'Ctrl' + 'Enter'"
      ]
    },
    {
      "cell_type": "code",
      "execution_count": null,
      "metadata": {
        "id": "c1FYhCmHy7cq"
      },
      "outputs": [],
      "source": [
        "# Training Data.\n",
        "\n",
        "X = np.array([3.3,4.4,5.5,6.71,6.93,4.168,9.779,6.182,7.59,2.167,\n",
        "              7.042,10.791,5.313,7.997,5.654,9.27,3.1])\n",
        "\n",
        "Y = np.array([1.7,2.76,2.09,3.19,1.694,1.573,3.366,2.596,2.53,1.221,\n",
        "              2.827,3.465,1.65,2.904,2.42,2.94,1.3])\n",
        "\n",
        "n_samples = X.shape[0]"
      ]
    },
    {
      "cell_type": "markdown",
      "metadata": {
        "id": "GwYL6jXEy7cq"
      },
      "source": [
        "![image.png](attachment:image.png)"
      ]
    },
    {
      "cell_type": "code",
      "execution_count": null,
      "metadata": {
        "id": "g8O8RRi-y7cq"
      },
      "outputs": [],
      "source": []
    },
    {
      "cell_type": "code",
      "execution_count": null,
      "metadata": {
        "id": "1nPQYP6-y7cq",
        "outputId": "649cd9df-4040-4911-d062-78a3c32706d3"
      },
      "outputs": [
        {
          "name": "stdout",
          "output_type": "stream",
          "text": [
            "[ 3.3    4.4    5.5    6.71   6.93   4.168  9.779  6.182  7.59   2.167\n",
            "  7.042 10.791  5.313  7.997  5.654  9.27   3.1  ] \n",
            " (17,)\n"
          ]
        }
      ],
      "source": []
    },
    {
      "cell_type": "markdown",
      "metadata": {
        "id": "LSt6QgR-y7cr"
      },
      "source": [
        "![image.png](attachment:image.png)"
      ]
    },
    {
      "cell_type": "code",
      "execution_count": null,
      "metadata": {
        "id": "u2-5wUrey7cr"
      },
      "outputs": [],
      "source": []
    },
    {
      "cell_type": "code",
      "execution_count": null,
      "metadata": {
        "id": "87OZtUrWy7cr",
        "outputId": "7f40e918-d84f-42ef-dbd3-256fe3290bd1"
      },
      "outputs": [
        {
          "name": "stdout",
          "output_type": "stream",
          "text": [
            "[1.7   2.76  2.09  3.19  1.694 1.573 3.366 2.596 2.53  1.221 2.827 3.465\n",
            " 1.65  2.904 2.42  2.94  1.3  ] \n",
            " (17,)\n"
          ]
        }
      ],
      "source": []
    },
    {
      "cell_type": "markdown",
      "metadata": {
        "id": "JDtqJQC1y7cr"
      },
      "source": [
        "![image.png](attachment:image.png)"
      ]
    },
    {
      "cell_type": "code",
      "execution_count": null,
      "metadata": {
        "id": "yHl1f8R9y7cs"
      },
      "outputs": [],
      "source": []
    },
    {
      "cell_type": "code",
      "execution_count": null,
      "metadata": {
        "id": "xxeZ1P-Zy7cs"
      },
      "outputs": [],
      "source": [
        "W=tf.Variable(rng.randn(),name=\"weight\")\n",
        "b=tf.Variable(rng.randn(),name=\"bias\")"
      ]
    },
    {
      "cell_type": "markdown",
      "metadata": {
        "id": "IJJhBHfVy7cs"
      },
      "source": [
        "![image.png](attachment:image.png)"
      ]
    },
    {
      "cell_type": "code",
      "execution_count": null,
      "metadata": {
        "id": "W0P4HOr7y7cs"
      },
      "outputs": [],
      "source": [
        "def linear_regression(x):\n",
        "  return W* x + b\n"
      ]
    },
    {
      "cell_type": "code",
      "execution_count": null,
      "metadata": {
        "id": "8X9WOnnfy7cs"
      },
      "outputs": [],
      "source": []
    },
    {
      "cell_type": "markdown",
      "metadata": {
        "id": "rvM1TizBy7cs"
      },
      "source": [
        "![image.png](attachment:image.png)"
      ]
    },
    {
      "cell_type": "code",
      "execution_count": null,
      "metadata": {
        "id": "uE__mq_2y7cs"
      },
      "outputs": [],
      "source": [
        "def mean_square(y_pred, y_true):\n",
        "  return tf.reduce_sum(tf.pow(y_pred-y_true, 2)) / (2*n_samples)"
      ]
    },
    {
      "cell_type": "code",
      "execution_count": null,
      "metadata": {
        "id": "1QOc0no-y7cs"
      },
      "outputs": [],
      "source": []
    },
    {
      "cell_type": "markdown",
      "metadata": {
        "id": "gro49uKKy7cs"
      },
      "source": [
        "![image.png](attachment:image.png)"
      ]
    },
    {
      "cell_type": "code",
      "execution_count": null,
      "metadata": {
        "id": "8Goml3eEy7cs"
      },
      "outputs": [],
      "source": [
        "optimizer = tf.optimizers.SGD(learning_rate)\n"
      ]
    },
    {
      "cell_type": "code",
      "execution_count": null,
      "metadata": {
        "id": "8cnkThT-y7cs"
      },
      "outputs": [],
      "source": []
    },
    {
      "cell_type": "code",
      "execution_count": null,
      "metadata": {
        "id": "o1FcmhKPy7cs"
      },
      "outputs": [],
      "source": [
        "# Adding a question mark () after the function name lets you view the latest documentation.\n",
        "# This is a handy tool."
      ]
    },
    {
      "cell_type": "markdown",
      "metadata": {
        "id": "kXFiqZcdy7cs"
      },
      "source": [
        "![image.png](attachment:image.png)"
      ]
    },
    {
      "cell_type": "code",
      "execution_count": null,
      "metadata": {
        "id": "1heagta8y7cs"
      },
      "outputs": [],
      "source": [
        "def run_optimization():\n",
        "  #Wrap computation inside a Gradient Tape for automatic differentiation\n",
        "  with tf.GradientTape() as g:\n",
        "    pred=linear_regression(X)\n",
        "    loss = mean_square(pred, Y)\n",
        "  gradients= g.gradient(loss, [W, b])\n",
        "  optimizer.apply_gradients(zip(gradients, [W, b]))"
      ]
    },
    {
      "cell_type": "code",
      "execution_count": null,
      "metadata": {
        "id": "uQXR3LlMy7cs"
      },
      "outputs": [],
      "source": []
    },
    {
      "cell_type": "markdown",
      "metadata": {
        "id": "OLQm6wAKy7ct"
      },
      "source": [
        "![image.png](attachment:image.png)"
      ]
    },
    {
      "cell_type": "code",
      "execution_count": null,
      "metadata": {
        "id": "_-AxhSRVy7ct",
        "colab": {
          "base_uri": "https://localhost:8080/"
        },
        "outputId": "57783bcb-e360-406c-cdf3-9ebde73fef78"
      },
      "outputs": [
        {
          "output_type": "stream",
          "name": "stdout",
          "text": [
            "step: 50, loss: 0.079152, W: 0.278365, b: 0.609295\n",
            "step: 100, loss: 0.078898, W: 0.276790, b: 0.620462\n",
            "step: 150, loss: 0.078672, W: 0.275308, b: 0.630969\n",
            "step: 200, loss: 0.078473, W: 0.273913, b: 0.640859\n",
            "step: 250, loss: 0.078296, W: 0.272601, b: 0.650165\n",
            "step: 300, loss: 0.078140, W: 0.271365, b: 0.658923\n",
            "step: 350, loss: 0.078001, W: 0.270203, b: 0.667164\n",
            "step: 400, loss: 0.077879, W: 0.269109, b: 0.674921\n",
            "step: 450, loss: 0.077770, W: 0.268079, b: 0.682220\n",
            "step: 500, loss: 0.077674, W: 0.267110, b: 0.689089\n",
            "step: 550, loss: 0.077589, W: 0.266198, b: 0.695553\n",
            "step: 600, loss: 0.077513, W: 0.265340, b: 0.701637\n",
            "step: 650, loss: 0.077446, W: 0.264533, b: 0.707362\n",
            "step: 700, loss: 0.077387, W: 0.263773, b: 0.712749\n",
            "step: 750, loss: 0.077335, W: 0.263058, b: 0.717820\n",
            "step: 800, loss: 0.077288, W: 0.262385, b: 0.722591\n",
            "step: 850, loss: 0.077247, W: 0.261751, b: 0.727081\n",
            "step: 900, loss: 0.077211, W: 0.261155, b: 0.731307\n",
            "step: 950, loss: 0.077179, W: 0.260594, b: 0.735284\n",
            "step: 1000, loss: 0.077150, W: 0.260066, b: 0.739027\n"
          ]
        }
      ],
      "source": [
        "for step in range(1, training_steps + 1):\n",
        "  # Run the optimisation to update W and b values\n",
        "  run_optimization()\n",
        "  if step % display_step == 0:\n",
        "    pred= linear_regression(X)\n",
        "    loss= mean_square(pred, Y)\n",
        "    print(\"step: %i, loss: %f, W: %f, b: %f\" % (step, loss, W.numpy(), b.numpy()))"
      ]
    },
    {
      "cell_type": "code",
      "execution_count": null,
      "metadata": {
        "id": "koii7PY1y7ct"
      },
      "outputs": [],
      "source": []
    },
    {
      "cell_type": "markdown",
      "metadata": {
        "id": "wzNnW-ngy7ct"
      },
      "source": [
        "![image.png](attachment:image.png)"
      ]
    },
    {
      "cell_type": "code",
      "execution_count": null,
      "metadata": {
        "id": "sWuYYFkvy7ct"
      },
      "outputs": [],
      "source": []
    },
    {
      "cell_type": "code",
      "execution_count": null,
      "metadata": {
        "id": "qmaLf5_py7ct",
        "outputId": "b00f7997-3170-45e2-f641-d6f41d4dc9bb"
      },
      "outputs": [
        {
          "name": "stdout",
          "output_type": "stream",
          "text": [
            "step: 50, loss: 0.124850, W: 0.127526, b: 1.678677\n",
            "step: 100, loss: 0.119369, W: 0.134839, b: 1.626834\n",
            "step: 150, loss: 0.114515, W: 0.141720, b: 1.578046\n",
            "step: 200, loss: 0.110216, W: 0.148197, b: 1.532132\n",
            "step: 250, loss: 0.106409, W: 0.154291, b: 1.488923\n",
            "step: 300, loss: 0.103038, W: 0.160027, b: 1.448260\n",
            "step: 350, loss: 0.100052, W: 0.165425, b: 1.409994\n",
            "step: 400, loss: 0.097407, W: 0.170504, b: 1.373981\n",
            "step: 450, loss: 0.095065, W: 0.175285, b: 1.340091\n",
            "step: 500, loss: 0.092991, W: 0.179783, b: 1.308198\n",
            "step: 550, loss: 0.091154, W: 0.184017, b: 1.278184\n",
            "step: 600, loss: 0.089527, W: 0.188001, b: 1.249938\n",
            "step: 650, loss: 0.088086, W: 0.191750, b: 1.223357\n",
            "step: 700, loss: 0.086810, W: 0.195279, b: 1.198342\n",
            "step: 750, loss: 0.085680, W: 0.198599, b: 1.174800\n",
            "step: 800, loss: 0.084679, W: 0.201724, b: 1.152646\n",
            "step: 850, loss: 0.083793, W: 0.204665, b: 1.131797\n",
            "step: 900, loss: 0.083008, W: 0.207432, b: 1.112177\n",
            "step: 950, loss: 0.082312, W: 0.210037, b: 1.093712\n",
            "step: 1000, loss: 0.081697, W: 0.212488, b: 1.076336\n"
          ]
        }
      ],
      "source": []
    },
    {
      "cell_type": "markdown",
      "metadata": {
        "id": "JYTAimIly7ct"
      },
      "source": [
        "![image.png](attachment:image.png)"
      ]
    },
    {
      "cell_type": "code",
      "execution_count": null,
      "metadata": {
        "id": "ON6KMJx-y7ct",
        "colab": {
          "base_uri": "https://localhost:8080/",
          "height": 430
        },
        "outputId": "0e9661bf-b66c-4a36-fe4e-3ac193132e87"
      },
      "outputs": [
        {
          "output_type": "display_data",
          "data": {
            "text/plain": [
              "<Figure size 640x480 with 1 Axes>"
            ],
            "image/png": "[encoded data removed]"
          },
          "metadata": {}
        }
      ],
      "source": [
        "# Plot the Graph\n",
        "\n",
        "plt.plot(X, Y, 'ro', label='Original data')\n",
        "\n",
        "plt.plot(X, np.array (W* X + b), label='Fitted line')\n",
        "plt.legend()\n",
        "plt.show()"
      ]
    },
    {
      "cell_type": "code",
      "source": [
        "# Plot the Graph\n",
        "plt.figure(figsize=(10, 6))  # Adjusting the size of the graph\n",
        "\n",
        "plt.plot(X, Y, 'ro', label='Original data', markersize=8, markerfacecolor='yellow')  # Adjust color and marker properties\n",
        "\n",
        "plt.plot(X, np.array(W * X + b), color='black', label='Fitted line', linewidth=2)  # Changing color to green and adjusting line width\n",
        "plt.legend()\n",
        "plt.title('Fitted Line on Original Data')\n",
        "plt.xlabel('X-axis')\n",
        "plt.ylabel('Y-axis')\n",
        "plt.grid(True)  # Adding grid lines for better readability\n",
        "\n",
        "plt.show()"
      ],
      "metadata": {
        "colab": {
          "base_uri": "https://localhost:8080/",
          "height": 564
        },
        "id": "z0wMLxSOE7bO",
        "outputId": "2dbd4ed6-7318-4c13-917e-dbd75d81e56e"
      },
      "execution_count": null,
      "outputs": [
        {
          "output_type": "display_data",
          "data": {
            "text/plain": [
              "<Figure size 1000x600 with 1 Axes>"
            ],
            "image/png": "[encoded data removed]"
          },
          "metadata": {}
        }
      ]
    },
    {
      "cell_type": "code",
      "execution_count": null,
      "metadata": {
        "id": "1oQI5vABy7c5",
        "outputId": "71cb2eaa-d559-422c-fe77-a3976cc61404"
      },
      "outputs": [
        {
          "data": {
            "image/png": "[encoded data removed]",
            "text/plain": [
              "<Figure size 640x480 with 1 Axes>"
            ]
          },
          "metadata": {},
          "output_type": "display_data"
        }
      ],
      "source": []
    },
    {
      "cell_type": "code",
      "execution_count": null,
      "metadata": {
        "id": "cEEYkAtRy7c5"
      },
      "outputs": [],
      "source": []
    },
    {
      "cell_type": "markdown",
      "metadata": {
        "id": "KdpcVGxdy7c6"
      },
      "source": [
        "# Lab Logbook requirements:\n",
        "### Please make sure to document the following in your Lablogbook:\n",
        "\n",
        "Include an image of the generated graph depicting the original data and the fitted line for linear regression. Modify the appearance of the graph by adjusting its color or size. Copy the figure and paste it directly into your logbook. Refrain from taking a snapshot; instead, right-click and copy the graph to your lab logbook. Ensure that no code or other information is added to the logbook and that only required graph is present.  \n",
        "\n",
        "#### Marks will not be awarded if anything else is found in the logbook or instructions are not clearly followed."
      ]
    },
    {
      "cell_type": "code",
      "execution_count": null,
      "metadata": {
        "id": "0WJALJQly7c6"
      },
      "outputs": [],
      "source": []
    }
  ],
  "metadata": {
    "kernelspec": {
      "display_name": "Python 3 (ipykernel)",
      "language": "python",
      "name": "python3"
    },
    "language_info": {
      "codemirror_mode": {
        "name": "ipython",
        "version": 3
      },
      "file_extension": ".py",
      "mimetype": "text/x-python",
      "name": "python",
      "nbconvert_exporter": "python",
      "pygments_lexer": "ipython3",
      "version": "3.11.5"
    },
    "colab": {
      "provenance": []
    }
  },
  "nbformat": 4,
  "nbformat_minor": 0
}