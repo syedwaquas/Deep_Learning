{
  "cells": [
    {
      "cell_type": "markdown",
      "metadata": {
        "id": "B93LCu2S5xPb"
      },
      "source": [
        "# CIFAR10 Transfer Learning based Classifier\n",
        "\n",
        "This notebook outlines the steps to build a classifier to leverage concepts of Transfer Learning by utilizing a pretrained Deep-CNN.\n",
        "Particularly in this case based on VGG16"
      ]
    },
    {
      "cell_type": "code",
      "execution_count": 1,
      "metadata": {
        "id": "2yTk_U8M5xPd"
      },
      "outputs": [],
      "source": [
        "\n",
        "import numpy as np\n",
        "import matplotlib.pyplot as plt\n",
        "params = {'legend.fontsize': 'x-large',\n",
        "          'figure.figsize': (15, 5),\n",
        "         'axes.labelsize': 'x-large',\n",
        "         'axes.titlesize':'x-large',\n",
        "         'xtick.labelsize':'x-large',\n",
        "         'ytick.labelsize':'x-large'}\n",
        "\n",
        "plt.rcParams.update(params)\n",
        "\n",
        "\n",
        "def make_prediction(model=None,img_vector=[],\n",
        "                    label_dict={},top_N=3,\n",
        "                    model_input_shape=None):\n",
        "    if model:\n",
        "        # get model input shape\n",
        "        if not model_input_shape:\n",
        "            model_input_shape = (1,)+model.get_input_shape_at(0)[1:]\n",
        "\n",
        "        # get prediction\n",
        "        prediction = model.predict(img_vector.reshape(model_input_shape))[0]\n",
        "\n",
        "\n",
        "        # get top N with confidence\n",
        "        labels_predicted = [label_dict[idx] for idx in np.argsort(prediction)[::-1][:top_N]]\n",
        "        confidence_predicted = np.sort(prediction)[::-1][:top_N]\n",
        "\n",
        "        return labels_predicted, confidence_predicted\n",
        "\n",
        "\n",
        "def plot_predictions(model,dataset,\n",
        "                    dataset_labels,label_dict,\n",
        "                    batch_size,grid_height,grid_width):\n",
        "    if model:\n",
        "        f, ax = plt.subplots(grid_width, grid_height)\n",
        "        f.set_size_inches(12, 12)\n",
        "\n",
        "        random_batch_indx = np.random.permutation(np.arange(0,len(dataset)))[:batch_size]\n",
        "\n",
        "        img_idx = 0\n",
        "        for i in range(0, grid_width):\n",
        "            for j in range(0, grid_height):\n",
        "                actual_label = label_dict.get(dataset_labels[random_batch_indx[img_idx]].argmax())\n",
        "                preds,confs_ = make_prediction(model,\n",
        "                                              img_vector=dataset[random_batch_indx[img_idx]],\n",
        "                                              label_dict=label_dict,\n",
        "                                              top_N=1)\n",
        "                ax[i][j].axis('off')\n",
        "                ax[i][j].set_title('Actual:'+actual_label[:10]+\\\n",
        "                                    '\\nPredicted:'+preds[0] + \\\n",
        "                                    '(' +str(round(confs_[0],2)) + ')')\n",
        "                ax[i][j].imshow(dataset[random_batch_indx[img_idx]])\n",
        "                img_idx += 1\n",
        "\n",
        "        plt.subplots_adjust(left=0, bottom=0, right=1,\n",
        "                            top=1, wspace=0.4, hspace=0.55)\n",
        "\n",
        "\n",
        "# source: https://github.com/keras-team/keras/issues/431#issuecomment-317397154\n",
        "def get_activations(model, model_inputs,\n",
        "    print_shape_only=True, layer_name=None):\n",
        "    import keras.backend as K\n",
        "    print('----- activations -----')\n",
        "    activations = []\n",
        "    inp = model.input\n",
        "\n",
        "    model_multi_inputs_cond = True\n",
        "    if not isinstance(inp, list):\n",
        "        # only one input! let's wrap it in a list.\n",
        "        inp = [inp]\n",
        "        model_multi_inputs_cond = False\n",
        "    # all layer outputs\n",
        "    outputs = [layer.output for layer in model.layers if\n",
        "               layer.name == layer_name or layer_name is None]\n",
        "\n",
        "    # evaluation functions\n",
        "    funcs = [K.function(inp + [K.learning_phase()], [out]) for out in outputs]\n",
        "\n",
        "    if model_multi_inputs_cond:\n",
        "        list_inputs = []\n",
        "        list_inputs.extend(model_inputs)\n",
        "        list_inputs.append(1.)\n",
        "    else:\n",
        "        list_inputs = [model_inputs, 1.]\n",
        "\n",
        "    # Learning phase. 1 = Test mode (no dropout or batch normalization)\n",
        "    # layer_outputs = [func([model_inputs, 1.])[0] for func in funcs]\n",
        "    layer_outputs = [func(list_inputs)[0] for func in funcs]\n",
        "    for layer_activations in layer_outputs:\n",
        "        activations.append(layer_activations)\n",
        "        if print_shape_only:\n",
        "            print(layer_activations.shape)\n",
        "        else:\n",
        "            print(layer_activations)\n",
        "    return activations\n",
        "\n",
        "# source :https://github.com/philipperemy/keras-visualize-activations/blob/master/read_activations.py\n",
        "def display_activations(activation_maps):\n",
        "    batch_size = activation_maps[0].shape[0]\n",
        "    assert batch_size == 1, 'One image at a time to visualize.'\n",
        "    for i, activation_map in enumerate(activation_maps):\n",
        "        print('Displaying activation map {}'.format(i))\n",
        "        shape = activation_map.shape\n",
        "        if len(shape) == 4:\n",
        "            activations = np.hstack(np.transpose(activation_map[0], (2, 0, 1)))\n",
        "        elif len(shape) == 2:\n",
        "            # try to make it square as much as possible. we can skip some activations.\n",
        "            activations = activation_map[0]\n",
        "            num_activations = len(activations)\n",
        "            # too hard to display it on the screen.\n",
        "            if num_activations > 1024:\n",
        "                square_param = int(np.floor(np.sqrt(num_activations)))\n",
        "                activations = activations[0: square_param * square_param]\n",
        "                activations = np.reshape(activations, (square_param, square_param))\n",
        "            else:\n",
        "                activations = np.expand_dims(activations, axis=0)\n",
        "        else:\n",
        "            raise Exception('len(shape) = 3 has not been implemented.')\n",
        "        #plt.imshow(activations, interpolation='None', cmap='binary')\n",
        "        fig, ax = plt.subplots(figsize=(18, 12))\n",
        "        ax.imshow(activations, interpolation='None', cmap='binary')\n",
        "        plt.show()"
      ]
    },
    {
      "cell_type": "code",
      "execution_count": 2,
      "metadata": {
        "id": "umdFVxv05xPn"
      },
      "outputs": [],
      "source": [
        "from sklearn import metrics\n",
        "import numpy as np\n",
        "import pandas as pd\n",
        "import matplotlib.pyplot as plt\n",
        "from sklearn.preprocessing import LabelEncoder\n",
        "from sklearn.base import clone\n",
        "from sklearn.preprocessing import label_binarize\n",
        "from scipy import interp\n",
        "from sklearn.metrics import roc_curve, auc\n",
        "\n",
        "\n",
        "def get_metrics(true_labels, predicted_labels):\n",
        "\n",
        "    print('Accuracy:', np.round(\n",
        "                        metrics.accuracy_score(true_labels,\n",
        "                                               predicted_labels),\n",
        "                        4))\n",
        "    print('Precision:', np.round(\n",
        "                        metrics.precision_score(true_labels,\n",
        "                                               predicted_labels,\n",
        "                                               average='weighted'),\n",
        "                        4))\n",
        "    print('Recall:', np.round(\n",
        "                        metrics.recall_score(true_labels,\n",
        "                                               predicted_labels,\n",
        "                                               average='weighted'),\n",
        "                        4))\n",
        "    print('F1 Score:', np.round(\n",
        "                        metrics.f1_score(true_labels,\n",
        "                                               predicted_labels,\n",
        "                                               average='weighted'),\n",
        "                        4))\n",
        "\n",
        "\n",
        "def train_predict_model(classifier,\n",
        "                        train_features, train_labels,\n",
        "                        test_features, test_labels):\n",
        "    # build model\n",
        "    classifier.fit(train_features, train_labels)\n",
        "    # predict using model\n",
        "    predictions = classifier.predict(test_features)\n",
        "    return predictions\n",
        "\n",
        "\n",
        "def display_confusion_matrix(true_labels, predicted_labels, classes=[1,0]):\n",
        "\n",
        "    total_classes = len(classes)\n",
        "    level_labels = [total_classes*[0], list(range(total_classes))]\n",
        "\n",
        "    cm = metrics.confusion_matrix(y_true=true_labels, y_pred=predicted_labels,\n",
        "                                  labels=classes)\n",
        "    cm_frame = pd.DataFrame(data=cm,\n",
        "                            columns=pd.MultiIndex(levels=[['Predicted:'], classes],\n",
        "                                                  labels=level_labels),\n",
        "                            index=pd.MultiIndex(levels=[['Actual:'], classes],\n",
        "                                                labels=level_labels))\n",
        "    print(cm_frame)\n",
        "\n",
        "def display_classification_report(true_labels, predicted_labels, classes=[1,0]):\n",
        "\n",
        "    report = metrics.classification_report(y_true=true_labels,\n",
        "                                           y_pred=predicted_labels,\n",
        "                                           labels=classes)\n",
        "    print(report)\n",
        "\n",
        "\n",
        "\n",
        "def display_model_performance_metrics(true_labels, predicted_labels, classes=[1,0]):\n",
        "    print('Model Performance metrics:')\n",
        "    print('-'*30)\n",
        "    get_metrics(true_labels=true_labels, predicted_labels=predicted_labels)\n",
        "    print('\\nModel Classification report:')\n",
        "    print('-'*30)\n",
        "    display_classification_report(true_labels=true_labels, predicted_labels=predicted_labels,\n",
        "                                  classes=classes)\n",
        "    print('\\nPrediction Confusion Matrix:')\n",
        "    print('-'*30)\n",
        "    display_confusion_matrix(true_labels=true_labels, predicted_labels=predicted_labels,\n",
        "                             classes=classes)\n",
        "\n",
        "\n",
        "def plot_model_decision_surface(clf, train_features, train_labels,\n",
        "                                plot_step=0.02, cmap=plt.cm.RdYlBu,\n",
        "                                markers=None, alphas=None, colors=None):\n",
        "\n",
        "    if train_features.shape[1] != 2:\n",
        "        raise ValueError(\"X_train should have exactly 2 columnns!\")\n",
        "\n",
        "    x_min, x_max = train_features[:, 0].min() - plot_step, train_features[:, 0].max() + plot_step\n",
        "    y_min, y_max = train_features[:, 1].min() - plot_step, train_features[:, 1].max() + plot_step\n",
        "    xx, yy = np.meshgrid(np.arange(x_min, x_max, plot_step),\n",
        "                         np.arange(y_min, y_max, plot_step))\n",
        "\n",
        "    clf_est = clone(clf)\n",
        "    clf_est.fit(train_features,train_labels)\n",
        "    if hasattr(clf_est, 'predict_proba'):\n",
        "        Z = clf_est.predict_proba(np.c_[xx.ravel(), yy.ravel()])[:,1]\n",
        "    else:\n",
        "        Z = clf_est.predict(np.c_[xx.ravel(), yy.ravel()])\n",
        "    Z = Z.reshape(xx.shape)\n",
        "    cs = plt.contourf(xx, yy, Z, cmap=cmap)\n",
        "\n",
        "    le = LabelEncoder()\n",
        "    y_enc = le.fit_transform(train_labels)\n",
        "    n_classes = len(le.classes_)\n",
        "    plot_colors = ''.join(colors) if colors else [None] * n_classes\n",
        "    label_names = le.classes_\n",
        "    markers = markers if markers else [None] * n_classes\n",
        "    alphas = alphas if alphas else [None] * n_classes\n",
        "    for i, color in zip(range(n_classes), plot_colors):\n",
        "        idx = np.where(y_enc == i)\n",
        "        plt.scatter(train_features[idx, 0], train_features[idx, 1], c=color,\n",
        "                    label=label_names[i], cmap=cmap, edgecolors='black',\n",
        "                    marker=markers[i], alpha=alphas[i])\n",
        "    plt.legend()\n",
        "    plt.show()\n",
        "\n",
        "\n",
        "def plot_model_roc_curve(clf, features, true_labels, label_encoder=None, class_names=None):\n",
        "\n",
        "    ## Compute ROC curve and ROC area for each class\n",
        "    fpr = dict()\n",
        "    tpr = dict()\n",
        "    roc_auc = dict()\n",
        "    if hasattr(clf, 'classes_'):\n",
        "        class_labels = clf.classes_\n",
        "    elif label_encoder:\n",
        "        class_labels = label_encoder.classes_\n",
        "    elif class_names:\n",
        "        class_labels = class_names\n",
        "    else:\n",
        "        raise ValueError('Unable to derive prediction classes, please specify class_names!')\n",
        "    n_classes = len(class_labels)\n",
        "    y_test = label_binarize(true_labels, classes=class_labels)\n",
        "    if n_classes == 2:\n",
        "        if hasattr(clf, 'predict_proba'):\n",
        "            prob = clf.predict_proba(features)\n",
        "            y_score = prob[:, prob.shape[1]-1]\n",
        "        elif hasattr(clf, 'decision_function'):\n",
        "            prob = clf.decision_function(features)\n",
        "            y_score = prob[:, prob.shape[1]-1]\n",
        "        else:\n",
        "            raise AttributeError(\"Estimator doesn't have a probability or confidence scoring system!\")\n",
        "\n",
        "        fpr, tpr, _ = roc_curve(y_test, y_score)\n",
        "        roc_auc = auc(fpr, tpr)\n",
        "        plt.plot(fpr, tpr, label='ROC curve (area = {0:0.2f})'\n",
        "                                 ''.format(roc_auc),\n",
        "                 linewidth=2.5)\n",
        "\n",
        "    elif n_classes > 2:\n",
        "        if hasattr(clf, 'predict_proba'):\n",
        "            y_score = clf.predict_proba(features)\n",
        "        elif hasattr(clf, 'decision_function'):\n",
        "            y_score = clf.decision_function(features)\n",
        "        else:\n",
        "            raise AttributeError(\"Estimator doesn't have a probability or confidence scoring system!\")\n",
        "\n",
        "        for i in range(n_classes):\n",
        "            fpr[i], tpr[i], _ = roc_curve(y_test[:, i], y_score[:, i])\n",
        "            roc_auc[i] = auc(fpr[i], tpr[i])\n",
        "\n",
        "        ## Compute micro-average ROC curve and ROC area\n",
        "        fpr[\"micro\"], tpr[\"micro\"], _ = roc_curve(y_test.ravel(), y_score.ravel())\n",
        "        roc_auc[\"micro\"] = auc(fpr[\"micro\"], tpr[\"micro\"])\n",
        "\n",
        "        ## Compute macro-average ROC curve and ROC area\n",
        "        # First aggregate all false positive rates\n",
        "        all_fpr = np.unique(np.concatenate([fpr[i] for i in range(n_classes)]))\n",
        "        # Then interpolate all ROC curves at this points\n",
        "        mean_tpr = np.zeros_like(all_fpr)\n",
        "        for i in range(n_classes):\n",
        "            mean_tpr += interp(all_fpr, fpr[i], tpr[i])\n",
        "        # Finally average it and compute AUC\n",
        "        mean_tpr /= n_classes\n",
        "        fpr[\"macro\"] = all_fpr\n",
        "        tpr[\"macro\"] = mean_tpr\n",
        "        roc_auc[\"macro\"] = auc(fpr[\"macro\"], tpr[\"macro\"])\n",
        "\n",
        "        ## Plot ROC curves\n",
        "        plt.figure(figsize=(6, 4))\n",
        "        plt.plot(fpr[\"micro\"], tpr[\"micro\"],\n",
        "                 label='micro-average ROC curve (area = {0:0.2f})'\n",
        "                       ''.format(roc_auc[\"micro\"]), linewidth=3)\n",
        "\n",
        "        plt.plot(fpr[\"macro\"], tpr[\"macro\"],\n",
        "                 label='macro-average ROC curve (area = {0:0.2f})'\n",
        "                       ''.format(roc_auc[\"macro\"]), linewidth=3)\n",
        "\n",
        "        for i, label in enumerate(class_labels):\n",
        "            plt.plot(fpr[i], tpr[i], label='ROC curve of class {0} (area = {1:0.2f})'\n",
        "                                           ''.format(label, roc_auc[i]),\n",
        "                     linewidth=2, linestyle=':')\n",
        "    else:\n",
        "        raise ValueError('Number of classes should be atleast 2 or more')\n",
        "\n",
        "    plt.plot([0, 1], [0, 1], 'k--')\n",
        "    plt.xlim([0.0, 1.0])\n",
        "    plt.ylim([0.0, 1.05])\n",
        "    plt.xlabel('False Positive Rate')\n",
        "    plt.ylabel('True Positive Rate')\n",
        "    plt.title('Receiver Operating Characteristic (ROC) Curve')\n",
        "    plt.legend(loc=\"lower right\")\n",
        "    plt.show()"
      ]
    },
    {
      "cell_type": "code",
      "execution_count": 3,
      "metadata": {
        "id": "qpwpUhVod2ob"
      },
      "outputs": [],
      "source": [
        "# Pandas and Numpy for data structures and util fucntions\n",
        "import scipy as sp\n",
        "import numpy as np\n",
        "import pandas as pd\n",
        "from numpy.random import rand\n",
        "pd.options.display.max_colwidth = 600\n",
        "\n",
        "# Scikit Imports\n",
        "from sklearn import preprocessing\n",
        "from sklearn.metrics import roc_curve, auc, precision_recall_curve\n",
        "from sklearn.model_selection import train_test_split\n",
        "\n",
        "# Matplot Imports\n",
        "import matplotlib.pyplot as plt\n",
        "params = {'legend.fontsize': 'x-large',\n",
        "          'figure.figsize': (15, 5),\n",
        "          'axes.labelsize': 'x-large',\n",
        "          'axes.titlesize':'x-large',\n",
        "          'xtick.labelsize':'x-large',\n",
        "          'ytick.labelsize':'x-large'}\n",
        "\n",
        "plt.rcParams.update(params)\n",
        "%matplotlib inline\n",
        "\n",
        "# pandas display data frames as tables\n",
        "from IPython.display import display, HTML\n",
        "\n",
        "import warnings\n",
        "warnings.filterwarnings('ignore')"
      ]
    },
    {
      "cell_type": "code",
      "execution_count": 4,
      "metadata": {
        "id": "VB1artr2KuLD"
      },
      "outputs": [],
      "source": [
        "import tensorflow as tf\n",
        "from keras import callbacks\n",
        "from keras import optimizers\n",
        "from keras.datasets import cifar10\n",
        "from keras import Model\n",
        "from keras.applications import vgg16 as vgg\n",
        "from keras.layers import Dropout, Flatten, Dense, GlobalAveragePooling2D,BatchNormalization\n",
        "from keras.preprocessing.image import ImageDataGenerator"
      ]
    },
    {
      "cell_type": "markdown",
      "metadata": {
        "id": "cxlhhoqO5xPs"
      },
      "source": [
        "## Load and Prepare DataSet"
      ]
    },
    {
      "cell_type": "code",
      "execution_count": 5,
      "metadata": {
        "id": "fS8uGXn5dgRU"
      },
      "outputs": [],
      "source": [
        "BATCH_SIZE = 32\n",
        "EPOCHS = 40\n",
        "NUM_CLASSES = 10\n",
        "LEARNING_RATE = 1e-4\n",
        "MOMENTUM = 0.9"
      ]
    },
    {
      "cell_type": "code",
      "execution_count": 6,
      "metadata": {
        "id": "PoT9P1phLuyT"
      },
      "outputs": [],
      "source": [
        "(X_train, y_train), (X_test, y_test) = cifar10.load_data()"
      ]
    },
    {
      "cell_type": "markdown",
      "metadata": {
        "id": "iUFABFXX5xPt"
      },
      "source": [
        "Split training dataset in train and validation sets"
      ]
    },
    {
      "cell_type": "code",
      "execution_count": 7,
      "metadata": {
        "id": "khNrl8nHqesu"
      },
      "outputs": [],
      "source": [
        "X_train, X_val, y_train, y_val = train_test_split(X_train,\n",
        "                                                  y_train,\n",
        "                                                  test_size=0.15,\n",
        "                                                  stratify=np.array(y_train),\n",
        "                                                  random_state=42)"
      ]
    },
    {
      "cell_type": "markdown",
      "metadata": {
        "id": "wtG19p2j5xPu"
      },
      "source": [
        "Transform target variable/labels into one hot encoded form"
      ]
    },
    {
      "cell_type": "code",
      "execution_count": 8,
      "metadata": {
        "id": "IJdZ6DLUqu-P"
      },
      "outputs": [],
      "source": [
        "from tensorflow.keras.utils import to_categorical\n",
        "Y_train = to_categorical(y_train, NUM_CLASSES)\n",
        "Y_val = to_categorical(y_val, NUM_CLASSES)\n",
        "Y_test = to_categorical(y_test, NUM_CLASSES)"
      ]
    },
    {
      "cell_type": "markdown",
      "metadata": {
        "id": "uljnWvUH5xPu"
      },
      "source": [
        "### Preprocessing\n",
        "\n",
        "Since we are about to use VGG16 as a feature extractor, the minimum size of an image it takes is 48x48.\n",
        "We utilize ```scipy`` to resize images to required dimensions"
      ]
    },
    {
      "cell_type": "code",
      "execution_count": 9,
      "metadata": {
        "id": "C3a9vdYS5xPu"
      },
      "outputs": [],
      "source": [
        "from skimage.transform import resize"
      ]
    },
    {
      "cell_type": "code",
      "execution_count": 10,
      "metadata": {
        "id": "6udZF8zHbTaR"
      },
      "outputs": [],
      "source": [
        "X_train = np.array([resize(x, (48, 48)) for x in X_train])\n",
        "X_val = np.array([resize(x,(48, 48)) for x in X_val])\n",
        "X_test = np.array([resize(x,(48, 48)) for x in X_test])"
      ]
    },
    {
      "cell_type": "markdown",
      "metadata": {
        "id": "an1V_wiq5xPv"
      },
      "source": [
        "## Prepare the Model\n",
        "\n",
        "* Load VGG16 without the top classification layer\n",
        "* Prepare a custom classifier\n",
        "* Stack both models on top of each other"
      ]
    },
    {
      "cell_type": "code",
      "execution_count": 12,
      "metadata": {
        "colab": {
          "base_uri": "https://localhost:8080/"
        },
        "id": "j2py7602Kxlq",
        "outputId": "090ace15-c9be-4392-fa7e-84837ddb8b8d"
      },
      "outputs": [
        {
          "output_type": "stream",
          "name": "stdout",
          "text": [
            "Downloading data from https://storage.googleapis.com/tensorflow/keras-applications/vgg16/vgg16_weights_tf_dim_ordering_tf_kernels_notop.h5\n",
            "58889256/58889256 [==============================] - 0s 0us/step\n"
          ]
        }
      ],
      "source": [
        "base_model = vgg.VGG16(weights='imagenet',\n",
        "                       include_top=False,\n",
        "                       input_shape=(48, 48, 3))"
      ]
    },
    {
      "cell_type": "code",
      "execution_count": 13,
      "metadata": {
        "id": "iI9P8ni-L8H8"
      },
      "outputs": [],
      "source": [
        "# Extract the last layer from third block of vgg16 model\n",
        "last = base_model.get_layer('block3_pool').output"
      ]
    },
    {
      "cell_type": "code",
      "execution_count": 14,
      "metadata": {
        "id": "MI90lh6hL9ua"
      },
      "outputs": [],
      "source": [
        "# Add classification layers on top of it\n",
        "x = GlobalAveragePooling2D()(last)\n",
        "x= BatchNormalization()(x)\n",
        "x = Dense(256, activation='relu')(x)\n",
        "x = Dense(256, activation='relu')(x)\n",
        "x = Dropout(0.6)(x)\n",
        "pred = Dense(NUM_CLASSES, activation='softmax')(x)\n",
        "model = Model(base_model.input, pred)"
      ]
    },
    {
      "cell_type": "markdown",
      "metadata": {
        "id": "Wk3k0SBP5xPw"
      },
      "source": [
        "Since our objective is to only train the custom classifier, we freeze the layers of VGG16"
      ]
    },
    {
      "cell_type": "code",
      "execution_count": 15,
      "metadata": {
        "id": "fc3EhfLTMD4I"
      },
      "outputs": [],
      "source": [
        "for layer in base_model.layers:\n",
        "     layer.trainable = False"
      ]
    },
    {
      "cell_type": "code",
      "execution_count": 16,
      "metadata": {
        "colab": {
          "base_uri": "https://localhost:8080/"
        },
        "id": "PRXPI3DCMIIK",
        "outputId": "981228db-823c-448e-8224-7292e2cfda4f"
      },
      "outputs": [
        {
          "output_type": "stream",
          "name": "stderr",
          "text": [
            "WARNING:absl:`lr` is deprecated in Keras optimizer, please use `learning_rate` or use the legacy optimizer, e.g.,tf.keras.optimizers.legacy.Adam.\n"
          ]
        }
      ],
      "source": [
        "model.compile(loss='binary_crossentropy',\n",
        "              optimizer=optimizers.Adam(lr=LEARNING_RATE),\n",
        "              metrics=['accuracy'])"
      ]
    },
    {
      "cell_type": "code",
      "execution_count": 17,
      "metadata": {
        "colab": {
          "base_uri": "https://localhost:8080/"
        },
        "id": "PATZIBLlMLrf",
        "outputId": "022e08d1-e0bd-4de1-b60f-6504400ff297"
      },
      "outputs": [
        {
          "output_type": "stream",
          "name": "stdout",
          "text": [
            "Model: \"model\"\n",
            "_________________________________________________________________\n",
            " Layer (type)                Output Shape              Param #   \n",
            "=================================================================\n",
            " input_1 (InputLayer)        [(None, 48, 48, 3)]       0         \n",
            "                                                                 \n",
            " block1_conv1 (Conv2D)       (None, 48, 48, 64)        1792      \n",
            "                                                                 \n",
            " block1_conv2 (Conv2D)       (None, 48, 48, 64)        36928     \n",
            "                                                                 \n",
            " block1_pool (MaxPooling2D)  (None, 24, 24, 64)        0         \n",
            "                                                                 \n",
            " block2_conv1 (Conv2D)       (None, 24, 24, 128)       73856     \n",
            "                                                                 \n",
            " block2_conv2 (Conv2D)       (None, 24, 24, 128)       147584    \n",
            "                                                                 \n",
            " block2_pool (MaxPooling2D)  (None, 12, 12, 128)       0         \n",
            "                                                                 \n",
            " block3_conv1 (Conv2D)       (None, 12, 12, 256)       295168    \n",
            "                                                                 \n",
            " block3_conv2 (Conv2D)       (None, 12, 12, 256)       590080    \n",
            "                                                                 \n",
            " block3_conv3 (Conv2D)       (None, 12, 12, 256)       590080    \n",
            "                                                                 \n",
            " block3_pool (MaxPooling2D)  (None, 6, 6, 256)         0         \n",
            "                                                                 \n",
            " global_average_pooling2d (  (None, 256)               0         \n",
            " GlobalAveragePooling2D)                                         \n",
            "                                                                 \n",
            " batch_normalization (Batch  (None, 256)               1024      \n",
            " Normalization)                                                  \n",
            "                                                                 \n",
            " dense (Dense)               (None, 256)               65792     \n",
            "                                                                 \n",
            " dense_1 (Dense)             (None, 256)               65792     \n",
            "                                                                 \n",
            " dropout (Dropout)           (None, 256)               0         \n",
            "                                                                 \n",
            " dense_2 (Dense)             (None, 10)                2570      \n",
            "                                                                 \n",
            "=================================================================\n",
            "Total params: 1870666 (7.14 MB)\n",
            "Trainable params: 134666 (526.04 KB)\n",
            "Non-trainable params: 1736000 (6.62 MB)\n",
            "_________________________________________________________________\n"
          ]
        }
      ],
      "source": [
        "model.summary()"
      ]
    },
    {
      "cell_type": "markdown",
      "metadata": {
        "id": "W87s47bu5xPx"
      },
      "source": [
        "## Data Augmentation\n",
        "\n",
        "To help model generalize and overcome the limitations of a small dataset, we prepare augmented datasets using\n",
        "```keras ``` utilities"
      ]
    },
    {
      "cell_type": "code",
      "execution_count": 11,
      "metadata": {
        "id": "_Y-jNseQMNcf"
      },
      "outputs": [],
      "source": [
        "# prepare data augmentation configuration\n",
        "train_datagen = ImageDataGenerator(\n",
        "    rescale=1. / 255,\n",
        "    horizontal_flip=False)"
      ]
    },
    {
      "cell_type": "code",
      "execution_count": 12,
      "metadata": {
        "id": "mHPmLOf-N3SQ"
      },
      "outputs": [],
      "source": [
        "train_datagen.fit(X_train)\n",
        "train_generator = train_datagen.flow(X_train,\n",
        "                                     Y_train,\n",
        "                                     batch_size=BATCH_SIZE)"
      ]
    },
    {
      "cell_type": "code",
      "execution_count": 13,
      "metadata": {
        "id": "JSIJycdbrBWK"
      },
      "outputs": [],
      "source": [
        "val_datagen = ImageDataGenerator(rescale=1. / 255,\n",
        "    horizontal_flip=False)\n",
        "\n",
        "val_datagen.fit(X_val)\n",
        "val_generator = val_datagen.flow(X_val,\n",
        "                                 Y_val,\n",
        "                                 batch_size=BATCH_SIZE)"
      ]
    },
    {
      "cell_type": "code",
      "source": [
        "train_steps_per_epoch = X_train.shape[0] // BATCH_SIZE\n",
        "val_steps_per_epoch = X_val.shape[0] // BATCH_SIZE"
      ],
      "metadata": {
        "id": "mOAzaUmTAfUD"
      },
      "execution_count": 14,
      "outputs": []
    },
    {
      "cell_type": "markdown",
      "metadata": {
        "id": "q0YCMwzE5xPy"
      },
      "source": [
        "## Train the Model"
      ]
    },
    {
      "cell_type": "code",
      "execution_count": 21,
      "metadata": {
        "colab": {
          "base_uri": "https://localhost:8080/"
        },
        "id": "upzna-SWcdVK",
        "outputId": "267c326f-203f-47b6-8244-9533c99a1ce0",
        "scrolled": false
      },
      "outputs": [
        {
          "output_type": "stream",
          "name": "stdout",
          "text": [
            "Epoch 1/40\n",
            "1328/1328 [==============================] - 23s 10ms/step - loss: 0.2371 - accuracy: 0.4645 - val_loss: 0.1902 - val_accuracy: 0.5747\n",
            "Epoch 2/40\n",
            "1328/1328 [==============================] - 14s 11ms/step - loss: 0.1981 - accuracy: 0.5636 - val_loss: 0.1745 - val_accuracy: 0.6159\n",
            "Epoch 3/40\n",
            "1328/1328 [==============================] - 12s 9ms/step - loss: 0.1854 - accuracy: 0.5952 - val_loss: 0.1679 - val_accuracy: 0.6295\n",
            "Epoch 4/40\n",
            "1328/1328 [==============================] - 12s 9ms/step - loss: 0.1772 - accuracy: 0.6166 - val_loss: 0.1660 - val_accuracy: 0.6380\n",
            "Epoch 5/40\n",
            "1328/1328 [==============================] - 13s 10ms/step - loss: 0.1710 - accuracy: 0.6334 - val_loss: 0.1613 - val_accuracy: 0.6433\n",
            "Epoch 6/40\n",
            "1328/1328 [==============================] - 13s 10ms/step - loss: 0.1658 - accuracy: 0.6423 - val_loss: 0.1587 - val_accuracy: 0.6516\n",
            "Epoch 7/40\n",
            "1328/1328 [==============================] - 13s 10ms/step - loss: 0.1619 - accuracy: 0.6531 - val_loss: 0.1567 - val_accuracy: 0.6597\n",
            "Epoch 8/40\n",
            "1328/1328 [==============================] - 13s 10ms/step - loss: 0.1571 - accuracy: 0.6657 - val_loss: 0.1563 - val_accuracy: 0.6562\n",
            "Epoch 9/40\n",
            "1328/1328 [==============================] - 12s 9ms/step - loss: 0.1533 - accuracy: 0.6737 - val_loss: 0.1559 - val_accuracy: 0.6628\n",
            "Epoch 10/40\n",
            "1328/1328 [==============================] - 13s 10ms/step - loss: 0.1509 - accuracy: 0.6785 - val_loss: 0.1542 - val_accuracy: 0.6620\n",
            "Epoch 11/40\n",
            "1328/1328 [==============================] - 12s 9ms/step - loss: 0.1480 - accuracy: 0.6879 - val_loss: 0.1521 - val_accuracy: 0.6708\n",
            "Epoch 12/40\n",
            "1328/1328 [==============================] - 13s 10ms/step - loss: 0.1445 - accuracy: 0.6979 - val_loss: 0.1528 - val_accuracy: 0.6688\n",
            "Epoch 13/40\n",
            "1328/1328 [==============================] - 13s 10ms/step - loss: 0.1435 - accuracy: 0.6976 - val_loss: 0.1522 - val_accuracy: 0.6684\n",
            "Epoch 14/40\n",
            "1328/1328 [==============================] - 12s 9ms/step - loss: 0.1404 - accuracy: 0.7050 - val_loss: 0.1518 - val_accuracy: 0.6739\n",
            "Epoch 15/40\n",
            "1328/1328 [==============================] - 12s 9ms/step - loss: 0.1382 - accuracy: 0.7109 - val_loss: 0.1534 - val_accuracy: 0.6695\n",
            "Epoch 16/40\n",
            "1328/1328 [==============================] - 12s 9ms/step - loss: 0.1359 - accuracy: 0.7166 - val_loss: 0.1540 - val_accuracy: 0.6691\n",
            "Epoch 17/40\n",
            "1328/1328 [==============================] - 13s 10ms/step - loss: 0.1338 - accuracy: 0.7225 - val_loss: 0.1537 - val_accuracy: 0.6739\n",
            "Epoch 18/40\n",
            "1328/1328 [==============================] - 14s 10ms/step - loss: 0.1326 - accuracy: 0.7247 - val_loss: 0.1548 - val_accuracy: 0.6767\n",
            "Epoch 19/40\n",
            "1328/1328 [==============================] - 12s 9ms/step - loss: 0.1307 - accuracy: 0.7310 - val_loss: 0.1554 - val_accuracy: 0.6712\n",
            "Epoch 20/40\n",
            "1328/1328 [==============================] - 13s 10ms/step - loss: 0.1290 - accuracy: 0.7349 - val_loss: 0.1565 - val_accuracy: 0.6700\n",
            "Epoch 21/40\n",
            "1328/1328 [==============================] - 16s 12ms/step - loss: 0.1263 - accuracy: 0.7390 - val_loss: 0.1587 - val_accuracy: 0.6700\n",
            "Epoch 22/40\n",
            "1328/1328 [==============================] - 14s 11ms/step - loss: 0.1255 - accuracy: 0.7418 - val_loss: 0.1566 - val_accuracy: 0.6749\n",
            "Epoch 23/40\n",
            "1328/1328 [==============================] - 13s 9ms/step - loss: 0.1245 - accuracy: 0.7438 - val_loss: 0.1602 - val_accuracy: 0.6667\n",
            "Epoch 24/40\n",
            "1328/1328 [==============================] - 12s 9ms/step - loss: 0.1236 - accuracy: 0.7468 - val_loss: 0.1578 - val_accuracy: 0.6755\n",
            "Epoch 25/40\n",
            "1328/1328 [==============================] - 13s 10ms/step - loss: 0.1220 - accuracy: 0.7505 - val_loss: 0.1605 - val_accuracy: 0.6675\n",
            "Epoch 26/40\n",
            "1328/1328 [==============================] - 16s 12ms/step - loss: 0.1211 - accuracy: 0.7531 - val_loss: 0.1613 - val_accuracy: 0.6775\n",
            "Epoch 27/40\n",
            "1328/1328 [==============================] - 12s 9ms/step - loss: 0.1191 - accuracy: 0.7566 - val_loss: 0.1615 - val_accuracy: 0.6712\n",
            "Epoch 28/40\n",
            "1328/1328 [==============================] - 14s 11ms/step - loss: 0.1178 - accuracy: 0.7573 - val_loss: 0.1626 - val_accuracy: 0.6705\n",
            "Epoch 29/40\n",
            "1328/1328 [==============================] - 16s 12ms/step - loss: 0.1173 - accuracy: 0.7593 - val_loss: 0.1624 - val_accuracy: 0.6767\n",
            "Epoch 30/40\n",
            "1328/1328 [==============================] - 20s 15ms/step - loss: 0.1153 - accuracy: 0.7674 - val_loss: 0.1613 - val_accuracy: 0.6685\n",
            "Epoch 31/40\n",
            "1328/1328 [==============================] - 14s 10ms/step - loss: 0.1138 - accuracy: 0.7689 - val_loss: 0.1661 - val_accuracy: 0.6769\n",
            "Epoch 32/40\n",
            "1328/1328 [==============================] - 15s 12ms/step - loss: 0.1133 - accuracy: 0.7702 - val_loss: 0.1631 - val_accuracy: 0.6757\n",
            "Epoch 33/40\n",
            "1328/1328 [==============================] - 17s 12ms/step - loss: 0.1129 - accuracy: 0.7716 - val_loss: 0.1662 - val_accuracy: 0.6743\n",
            "Epoch 34/40\n",
            "1328/1328 [==============================] - 17s 13ms/step - loss: 0.1116 - accuracy: 0.7747 - val_loss: 0.1627 - val_accuracy: 0.6827\n",
            "Epoch 35/40\n",
            "1328/1328 [==============================] - 14s 10ms/step - loss: 0.1104 - accuracy: 0.7761 - val_loss: 0.1678 - val_accuracy: 0.6743\n",
            "Epoch 36/40\n",
            "1328/1328 [==============================] - 16s 12ms/step - loss: 0.1104 - accuracy: 0.7767 - val_loss: 0.1656 - val_accuracy: 0.6749\n",
            "Epoch 37/40\n",
            "1328/1328 [==============================] - 15s 12ms/step - loss: 0.1094 - accuracy: 0.7794 - val_loss: 0.1662 - val_accuracy: 0.6775\n",
            "Epoch 38/40\n",
            "1328/1328 [==============================] - 16s 12ms/step - loss: 0.1081 - accuracy: 0.7829 - val_loss: 0.1700 - val_accuracy: 0.6705\n",
            "Epoch 39/40\n",
            "1328/1328 [==============================] - 16s 12ms/step - loss: 0.1080 - accuracy: 0.7802 - val_loss: 0.1687 - val_accuracy: 0.6701\n",
            "Epoch 40/40\n",
            "1328/1328 [==============================] - 13s 10ms/step - loss: 0.1072 - accuracy: 0.7849 - val_loss: 0.1672 - val_accuracy: 0.6753\n"
          ]
        }
      ],
      "source": [
        "\n",
        "\n",
        "history = model.fit_generator(train_generator,\n",
        "                              steps_per_epoch=train_steps_per_epoch,\n",
        "                              validation_data=val_generator,\n",
        "                              validation_steps=val_steps_per_epoch,\n",
        "                              epochs=EPOCHS,\n",
        "                              verbose=1)"
      ]
    },
    {
      "cell_type": "markdown",
      "metadata": {
        "id": "dFT6U6t_5xPy"
      },
      "source": [
        "## Analyze Model Performance"
      ]
    },
    {
      "cell_type": "code",
      "execution_count": 23,
      "metadata": {
        "colab": {
          "base_uri": "https://localhost:8080/",
          "height": 525
        },
        "id": "ucbrAJdAerCe",
        "outputId": "b91b507b-8db5-4365-9a36-185080abdce0"
      },
      "outputs": [
        {
          "output_type": "display_data",
          "data": {
            "text/plain": [
              "<Figure size 1500x500 with 2 Axes>"
            ],
            "image/png": "[encoded data removed]"
          },
          "metadata": {}
        }
      ],
      "source": [
        "f, (ax1, ax2) = plt.subplots(1, 2, figsize=(15, 5))\n",
        "t = f.suptitle('Deep Neural Net Performance', fontsize=12)\n",
        "f.subplots_adjust(top=0.85, wspace=0.3)\n",
        "\n",
        "epochs = list(range(1,EPOCHS+1))\n",
        "ax1.plot(epochs, history.history['accuracy'], label='Train Accuracy')\n",
        "ax1.plot(epochs, history.history['val_accuracy'], label='Validation Accuracy')\n",
        "ax1.set_xticks(epochs)\n",
        "ax1.set_ylabel('Accuracy Value')\n",
        "ax1.set_xlabel('Epoch')\n",
        "ax1.set_title('Accuracy')\n",
        "l1 = ax1.legend(loc=\"best\")\n",
        "\n",
        "ax2.plot(epochs, history.history['loss'], label='Train Loss')\n",
        "ax2.plot(epochs, history.history['val_loss'], label='Validation Loss')\n",
        "ax2.set_xticks(epochs)\n",
        "ax2.set_ylabel('Loss Value')\n",
        "ax2.set_xlabel('Epoch')\n",
        "ax2.set_title('Loss')\n",
        "l2 = ax2.legend(loc=\"best\")"
      ]
    },
    {
      "cell_type": "code",
      "execution_count": 24,
      "metadata": {
        "colab": {
          "base_uri": "https://localhost:8080/"
        },
        "collapsed": true,
        "id": "6O7_wTjerlCJ",
        "outputId": "d7506438-274c-4f59-bcbb-ca783fb7c95f"
      },
      "outputs": [
        {
          "output_type": "stream",
          "name": "stdout",
          "text": [
            "313/313 [==============================] - 2s 6ms/step\n"
          ]
        }
      ],
      "source": [
        "predictions = model.predict(X_test/255.)"
      ]
    },
    {
      "cell_type": "code",
      "execution_count": 25,
      "metadata": {
        "collapsed": true,
        "id": "-kXS6GcHrhP0"
      },
      "outputs": [],
      "source": [
        "test_labels = list(y_test.squeeze())\n",
        "predictions = list(predictions.argmax(axis=1))"
      ]
    },
    {
      "cell_type": "code",
      "execution_count": 26,
      "metadata": {
        "colab": {
          "base_uri": "https://localhost:8080/"
        },
        "id": "lQ9T1O9vrdyI",
        "outputId": "7bc60a20-474a-4a05-ac0f-91450c0123a8"
      },
      "outputs": [
        {
          "output_type": "stream",
          "name": "stdout",
          "text": [
            "Accuracy: 0.6826\n",
            "Precision: 0.683\n",
            "Recall: 0.6826\n",
            "F1 Score: 0.6817\n"
          ]
        }
      ],
      "source": [
        "get_metrics(true_labels=y_test,\n",
        "                predicted_labels=predictions)"
      ]
    },
    {
      "cell_type": "markdown",
      "metadata": {
        "id": "4ZW6ITaU5xP0"
      },
      "source": [
        "## Visualize Predictions"
      ]
    },
    {
      "cell_type": "code",
      "execution_count": 27,
      "metadata": {
        "collapsed": true,
        "id": "uwIk8tnYmEGi"
      },
      "outputs": [],
      "source": [
        "label_dict = {0:'airplane',\n",
        "             1:'automobile',\n",
        "             2:'bird',\n",
        "             3:'cat',\n",
        "             4:'deer',\n",
        "             5:'dog',\n",
        "             6:'frog',\n",
        "             7:'horse',\n",
        "             8:'ship',\n",
        "             9:'truck'}"
      ]
    },
    {
      "cell_type": "code",
      "source": [
        "classes=['airplane','automobile','bird','cat','deer','dog','frog','horse','ship','truck']\n",
        "R = 5\n",
        "C = 5\n",
        "fig, axes = plt.subplots(R, C, figsize=(12,12))\n",
        "axes = axes.ravel()\n",
        "\n",
        "for i in np.arange(0, R*C):\n",
        "  axes[i].imshow(X_test[i])\n",
        "  axes[i].set_title(\"True: %s \\nPredict: %s\" %(classes[np.argmax(Y_test[i])],\n",
        "                                               classes[predictions[i]]))\n",
        "  axes[i].axis('off')\n",
        "  plt.subplots_adjust(wspace=1)"
      ],
      "metadata": {
        "id": "Wxc8nZRb_Q0K"
      },
      "execution_count": null,
      "outputs": []
    },
    {
      "cell_type": "markdown",
      "source": [
        "## Xception"
      ],
      "metadata": {
        "id": "bc9ZSMH_74B0"
      }
    },
    {
      "cell_type": "code",
      "source": [
        "import keras"
      ],
      "metadata": {
        "id": "elGNWH1c8R30"
      },
      "execution_count": 15,
      "outputs": []
    },
    {
      "cell_type": "code",
      "source": [
        "base_model = keras.applications.Xception(weights='imagenet',\n",
        "                       include_top=False,\n",
        "                      input_shape = (299, 299, 3))"
      ],
      "metadata": {
        "id": "-aqPNNhW75XU"
      },
      "execution_count": 16,
      "outputs": []
    },
    {
      "cell_type": "code",
      "execution_count": 17,
      "metadata": {
        "id": "il1r8J548Qw3"
      },
      "outputs": [],
      "source": [
        "# Extract the last layer from third block of vgg16 model\n",
        "last = base_model.get_layer('block3_pool').output"
      ]
    },
    {
      "cell_type": "code",
      "execution_count": 18,
      "metadata": {
        "id": "GNoMtq-B8Qw4"
      },
      "outputs": [],
      "source": [
        "# Add classification layers on top of it\n",
        "x = GlobalAveragePooling2D()(last)\n",
        "x= BatchNormalization()(x)\n",
        "x = Dense(256, activation='relu')(x)\n",
        "x = Dense(256, activation='relu')(x)\n",
        "x = Dropout(0.6)(x)\n",
        "pred = Dense(NUM_CLASSES, activation='softmax')(x)\n",
        "Xception_model = Model(base_model.input, pred)"
      ]
    },
    {
      "cell_type": "code",
      "execution_count": 19,
      "metadata": {
        "id": "JsgnAn8n8Qw5"
      },
      "outputs": [],
      "source": [
        "for layer in base_model.layers:\n",
        "     layer.trainable = False"
      ]
    },
    {
      "cell_type": "code",
      "execution_count": 20,
      "metadata": {
        "colab": {
          "base_uri": "https://localhost:8080/"
        },
        "outputId": "c232085b-c597-4119-ffd9-498d17b12e05",
        "id": "V9dVJAl28Qw5"
      },
      "outputs": [
        {
          "output_type": "stream",
          "name": "stderr",
          "text": [
            "WARNING:absl:`lr` is deprecated in Keras optimizer, please use `learning_rate` or use the legacy optimizer, e.g.,tf.keras.optimizers.legacy.Adam.\n"
          ]
        }
      ],
      "source": [
        "Xception_model.compile(loss='binary_crossentropy',\n",
        "              optimizer=optimizers.Adam(lr=LEARNING_RATE),\n",
        "              metrics=['accuracy'])"
      ]
    },
    {
      "cell_type": "code",
      "execution_count": 21,
      "metadata": {
        "colab": {
          "base_uri": "https://localhost:8080/"
        },
        "outputId": "b161a032-2da4-4484-d0f9-2afaca2bce73",
        "id": "AX7_LBUk8Qw5"
      },
      "outputs": [
        {
          "output_type": "stream",
          "name": "stdout",
          "text": [
            "Model: \"model\"\n",
            "__________________________________________________________________________________________________\n",
            " Layer (type)                Output Shape                 Param #   Connected to                  \n",
            "==================================================================================================\n",
            " input_1 (InputLayer)        [(None, 299, 299, 3)]        0         []                            \n",
            "                                                                                                  \n",
            " block1_conv1 (Conv2D)       (None, 149, 149, 32)         864       ['input_1[0][0]']             \n",
            "                                                                                                  \n",
            " block1_conv1_bn (BatchNorm  (None, 149, 149, 32)         128       ['block1_conv1[0][0]']        \n",
            " alization)                                                                                       \n",
            "                                                                                                  \n",
            " block1_conv1_act (Activati  (None, 149, 149, 32)         0         ['block1_conv1_bn[0][0]']     \n",
            " on)                                                                                              \n",
            "                                                                                                  \n",
            " block1_conv2 (Conv2D)       (None, 147, 147, 64)         18432     ['block1_conv1_act[0][0]']    \n",
            "                                                                                                  \n",
            " block1_conv2_bn (BatchNorm  (None, 147, 147, 64)         256       ['block1_conv2[0][0]']        \n",
            " alization)                                                                                       \n",
            "                                                                                                  \n",
            " block1_conv2_act (Activati  (None, 147, 147, 64)         0         ['block1_conv2_bn[0][0]']     \n",
            " on)                                                                                              \n",
            "                                                                                                  \n",
            " block2_sepconv1 (Separable  (None, 147, 147, 128)        8768      ['block1_conv2_act[0][0]']    \n",
            " Conv2D)                                                                                          \n",
            "                                                                                                  \n",
            " block2_sepconv1_bn (BatchN  (None, 147, 147, 128)        512       ['block2_sepconv1[0][0]']     \n",
            " ormalization)                                                                                    \n",
            "                                                                                                  \n",
            " block2_sepconv2_act (Activ  (None, 147, 147, 128)        0         ['block2_sepconv1_bn[0][0]']  \n",
            " ation)                                                                                           \n",
            "                                                                                                  \n",
            " block2_sepconv2 (Separable  (None, 147, 147, 128)        17536     ['block2_sepconv2_act[0][0]'] \n",
            " Conv2D)                                                                                          \n",
            "                                                                                                  \n",
            " block2_sepconv2_bn (BatchN  (None, 147, 147, 128)        512       ['block2_sepconv2[0][0]']     \n",
            " ormalization)                                                                                    \n",
            "                                                                                                  \n",
            " conv2d (Conv2D)             (None, 74, 74, 128)          8192      ['block1_conv2_act[0][0]']    \n",
            "                                                                                                  \n",
            " block2_pool (MaxPooling2D)  (None, 74, 74, 128)          0         ['block2_sepconv2_bn[0][0]']  \n",
            "                                                                                                  \n",
            " batch_normalization (Batch  (None, 74, 74, 128)          512       ['conv2d[0][0]']              \n",
            " Normalization)                                                                                   \n",
            "                                                                                                  \n",
            " add (Add)                   (None, 74, 74, 128)          0         ['block2_pool[0][0]',         \n",
            "                                                                     'batch_normalization[0][0]'] \n",
            "                                                                                                  \n",
            " block3_sepconv1_act (Activ  (None, 74, 74, 128)          0         ['add[0][0]']                 \n",
            " ation)                                                                                           \n",
            "                                                                                                  \n",
            " block3_sepconv1 (Separable  (None, 74, 74, 256)          33920     ['block3_sepconv1_act[0][0]'] \n",
            " Conv2D)                                                                                          \n",
            "                                                                                                  \n",
            " block3_sepconv1_bn (BatchN  (None, 74, 74, 256)          1024      ['block3_sepconv1[0][0]']     \n",
            " ormalization)                                                                                    \n",
            "                                                                                                  \n",
            " block3_sepconv2_act (Activ  (None, 74, 74, 256)          0         ['block3_sepconv1_bn[0][0]']  \n",
            " ation)                                                                                           \n",
            "                                                                                                  \n",
            " block3_sepconv2 (Separable  (None, 74, 74, 256)          67840     ['block3_sepconv2_act[0][0]'] \n",
            " Conv2D)                                                                                          \n",
            "                                                                                                  \n",
            " block3_sepconv2_bn (BatchN  (None, 74, 74, 256)          1024      ['block3_sepconv2[0][0]']     \n",
            " ormalization)                                                                                    \n",
            "                                                                                                  \n",
            " block3_pool (MaxPooling2D)  (None, 37, 37, 256)          0         ['block3_sepconv2_bn[0][0]']  \n",
            "                                                                                                  \n",
            " global_average_pooling2d (  (None, 256)                  0         ['block3_pool[0][0]']         \n",
            " GlobalAveragePooling2D)                                                                          \n",
            "                                                                                                  \n",
            " batch_normalization_4 (Bat  (None, 256)                  1024      ['global_average_pooling2d[0][\n",
            " chNormalization)                                                   0]']                          \n",
            "                                                                                                  \n",
            " dense (Dense)               (None, 256)                  65792     ['batch_normalization_4[0][0]'\n",
            "                                                                    ]                             \n",
            "                                                                                                  \n",
            " dense_1 (Dense)             (None, 256)                  65792     ['dense[0][0]']               \n",
            "                                                                                                  \n",
            " dropout (Dropout)           (None, 256)                  0         ['dense_1[0][0]']             \n",
            "                                                                                                  \n",
            " dense_2 (Dense)             (None, 10)                   2570      ['dropout[0][0]']             \n",
            "                                                                                                  \n",
            "==================================================================================================\n",
            "Total params: 294698 (1.12 MB)\n",
            "Trainable params: 134666 (526.04 KB)\n",
            "Non-trainable params: 160032 (625.12 KB)\n",
            "__________________________________________________________________________________________________\n"
          ]
        }
      ],
      "source": [
        "Xception_model.summary()"
      ]
    },
    {
      "cell_type": "code",
      "execution_count": 22,
      "metadata": {
        "colab": {
          "base_uri": "https://localhost:8080/"
        },
        "outputId": "4b87f7c7-9df4-434b-cf24-0417c7e57a02",
        "scrolled": false,
        "id": "M257OcB48Qw6"
      },
      "outputs": [
        {
          "output_type": "stream",
          "name": "stdout",
          "text": [
            "Epoch 1/40\n",
            "1328/1328 [==============================] - 19s 9ms/step - loss: 0.2440 - accuracy: 0.4430 - val_loss: 0.2011 - val_accuracy: 0.5483\n",
            "Epoch 2/40\n",
            "1328/1328 [==============================] - 10s 8ms/step - loss: 0.2061 - accuracy: 0.5451 - val_loss: 0.1854 - val_accuracy: 0.5841\n",
            "Epoch 3/40\n",
            "1328/1328 [==============================] - 10s 8ms/step - loss: 0.1941 - accuracy: 0.5759 - val_loss: 0.1791 - val_accuracy: 0.6028\n",
            "Epoch 4/40\n",
            "1328/1328 [==============================] - 9s 7ms/step - loss: 0.1854 - accuracy: 0.5984 - val_loss: 0.1726 - val_accuracy: 0.6209\n",
            "Epoch 5/40\n",
            "1328/1328 [==============================] - 12s 9ms/step - loss: 0.1777 - accuracy: 0.6189 - val_loss: 0.1728 - val_accuracy: 0.6217\n",
            "Epoch 6/40\n",
            "1328/1328 [==============================] - 9s 7ms/step - loss: 0.1733 - accuracy: 0.6285 - val_loss: 0.1692 - val_accuracy: 0.6310\n",
            "Epoch 7/40\n",
            "1328/1328 [==============================] - 16s 12ms/step - loss: 0.1690 - accuracy: 0.6395 - val_loss: 0.1654 - val_accuracy: 0.6378\n",
            "Epoch 8/40\n",
            "1328/1328 [==============================] - 10s 7ms/step - loss: 0.1642 - accuracy: 0.6519 - val_loss: 0.1671 - val_accuracy: 0.6346\n",
            "Epoch 9/40\n",
            "1328/1328 [==============================] - 9s 7ms/step - loss: 0.1603 - accuracy: 0.6600 - val_loss: 0.1638 - val_accuracy: 0.6417\n",
            "Epoch 10/40\n",
            "1328/1328 [==============================] - 10s 8ms/step - loss: 0.1567 - accuracy: 0.6678 - val_loss: 0.1637 - val_accuracy: 0.6446\n",
            "Epoch 11/40\n",
            "1328/1328 [==============================] - 10s 7ms/step - loss: 0.1550 - accuracy: 0.6711 - val_loss: 0.1618 - val_accuracy: 0.6465\n",
            "Epoch 12/40\n",
            "1328/1328 [==============================] - 10s 7ms/step - loss: 0.1512 - accuracy: 0.6806 - val_loss: 0.1622 - val_accuracy: 0.6477\n",
            "Epoch 13/40\n",
            "1328/1328 [==============================] - 10s 7ms/step - loss: 0.1478 - accuracy: 0.6884 - val_loss: 0.1640 - val_accuracy: 0.6418\n",
            "Epoch 14/40\n",
            "1328/1328 [==============================] - 12s 9ms/step - loss: 0.1456 - accuracy: 0.6942 - val_loss: 0.1622 - val_accuracy: 0.6464\n",
            "Epoch 15/40\n",
            "1328/1328 [==============================] - 13s 10ms/step - loss: 0.1425 - accuracy: 0.7022 - val_loss: 0.1622 - val_accuracy: 0.6468\n",
            "Epoch 16/40\n",
            "1328/1328 [==============================] - 10s 8ms/step - loss: 0.1413 - accuracy: 0.7061 - val_loss: 0.1612 - val_accuracy: 0.6490\n",
            "Epoch 17/40\n",
            "1328/1328 [==============================] - 10s 7ms/step - loss: 0.1390 - accuracy: 0.7102 - val_loss: 0.1617 - val_accuracy: 0.6538\n",
            "Epoch 18/40\n",
            "1328/1328 [==============================] - 10s 8ms/step - loss: 0.1363 - accuracy: 0.7155 - val_loss: 0.1653 - val_accuracy: 0.6545\n",
            "Epoch 19/40\n",
            "1328/1328 [==============================] - 10s 7ms/step - loss: 0.1353 - accuracy: 0.7189 - val_loss: 0.1634 - val_accuracy: 0.6464\n",
            "Epoch 20/40\n",
            "1328/1328 [==============================] - 10s 7ms/step - loss: 0.1318 - accuracy: 0.7278 - val_loss: 0.1639 - val_accuracy: 0.6550\n",
            "Epoch 21/40\n",
            "1328/1328 [==============================] - 12s 9ms/step - loss: 0.1306 - accuracy: 0.7311 - val_loss: 0.1645 - val_accuracy: 0.6546\n",
            "Epoch 22/40\n",
            "1328/1328 [==============================] - 9s 7ms/step - loss: 0.1296 - accuracy: 0.7310 - val_loss: 0.1648 - val_accuracy: 0.6522\n",
            "Epoch 23/40\n",
            "1328/1328 [==============================] - 10s 8ms/step - loss: 0.1281 - accuracy: 0.7351 - val_loss: 0.1688 - val_accuracy: 0.6432\n",
            "Epoch 24/40\n",
            "1328/1328 [==============================] - 10s 7ms/step - loss: 0.1263 - accuracy: 0.7388 - val_loss: 0.1672 - val_accuracy: 0.6517\n",
            "Epoch 25/40\n",
            "1328/1328 [==============================] - 10s 7ms/step - loss: 0.1243 - accuracy: 0.7429 - val_loss: 0.1674 - val_accuracy: 0.6529\n",
            "Epoch 26/40\n",
            "1328/1328 [==============================] - 10s 8ms/step - loss: 0.1232 - accuracy: 0.7459 - val_loss: 0.1696 - val_accuracy: 0.6508\n",
            "Epoch 27/40\n",
            "1328/1328 [==============================] - 9s 7ms/step - loss: 0.1212 - accuracy: 0.7496 - val_loss: 0.1700 - val_accuracy: 0.6494\n",
            "Epoch 28/40\n",
            "1328/1328 [==============================] - 10s 7ms/step - loss: 0.1206 - accuracy: 0.7561 - val_loss: 0.1742 - val_accuracy: 0.6505\n",
            "Epoch 29/40\n",
            "1328/1328 [==============================] - 14s 11ms/step - loss: 0.1197 - accuracy: 0.7545 - val_loss: 0.1724 - val_accuracy: 0.6517\n",
            "Epoch 30/40\n",
            "1328/1328 [==============================] - 9s 7ms/step - loss: 0.1175 - accuracy: 0.7591 - val_loss: 0.1740 - val_accuracy: 0.6545\n",
            "Epoch 31/40\n",
            "1328/1328 [==============================] - 11s 8ms/step - loss: 0.1161 - accuracy: 0.7637 - val_loss: 0.1719 - val_accuracy: 0.6533\n",
            "Epoch 32/40\n",
            "1328/1328 [==============================] - 14s 10ms/step - loss: 0.1160 - accuracy: 0.7608 - val_loss: 0.1735 - val_accuracy: 0.6583\n",
            "Epoch 33/40\n",
            "1328/1328 [==============================] - 10s 7ms/step - loss: 0.1144 - accuracy: 0.7683 - val_loss: 0.1796 - val_accuracy: 0.6532\n",
            "Epoch 34/40\n",
            "1328/1328 [==============================] - 10s 8ms/step - loss: 0.1136 - accuracy: 0.7704 - val_loss: 0.1740 - val_accuracy: 0.6571\n",
            "Epoch 35/40\n",
            "1328/1328 [==============================] - 13s 10ms/step - loss: 0.1114 - accuracy: 0.7747 - val_loss: 0.1793 - val_accuracy: 0.6528\n",
            "Epoch 36/40\n",
            "1328/1328 [==============================] - 10s 8ms/step - loss: 0.1113 - accuracy: 0.7738 - val_loss: 0.1759 - val_accuracy: 0.6588\n",
            "Epoch 37/40\n",
            "1328/1328 [==============================] - 10s 7ms/step - loss: 0.1097 - accuracy: 0.7771 - val_loss: 0.1794 - val_accuracy: 0.6549\n",
            "Epoch 38/40\n",
            "1328/1328 [==============================] - 10s 7ms/step - loss: 0.1091 - accuracy: 0.7803 - val_loss: 0.1825 - val_accuracy: 0.6545\n",
            "Epoch 39/40\n",
            "1328/1328 [==============================] - 9s 7ms/step - loss: 0.1085 - accuracy: 0.7781 - val_loss: 0.1837 - val_accuracy: 0.6524\n",
            "Epoch 40/40\n",
            "1328/1328 [==============================] - 11s 8ms/step - loss: 0.1077 - accuracy: 0.7840 - val_loss: 0.1784 - val_accuracy: 0.6607\n"
          ]
        }
      ],
      "source": [
        "history = Xception_model.fit_generator(train_generator,\n",
        "                              steps_per_epoch=train_steps_per_epoch,\n",
        "                              validation_data=val_generator,\n",
        "                              validation_steps=val_steps_per_epoch,\n",
        "                              epochs=EPOCHS,\n",
        "                              verbose=1)"
      ]
    },
    {
      "cell_type": "code",
      "source": [
        "Xception_model.save(\"Xception_model.h5\")"
      ],
      "metadata": {
        "id": "kW2jCqB1C6nv"
      },
      "execution_count": 23,
      "outputs": []
    },
    {
      "cell_type": "code",
      "source": [
        "import numpy as np\n",
        "import cv2\n",
        "\n",
        "def resize_images(images, target_size=(299, 299)):\n",
        "    for img in images:\n",
        "        yield cv2.resize(img, target_size)\n",
        "\n",
        "def predict_in_batches(model, images, batch_size=32):\n",
        "    for i in range(0, len(images), batch_size):\n",
        "        batch = images[i:i + batch_size]\n",
        "        batch_resized = np.array(list(resize_images(batch)))\n",
        "        yield model.predict(batch_resized / 255.)\n",
        "\n",
        "# Assuming X_test is a numpy array of shape (num_samples, 48, 48, 3)\n",
        "# and Xception_model is your model\n",
        "\n",
        "# Process the images in batches\n",
        "batch_predictions = list(predict_in_batches(Xception_model, X_test))\n",
        "\n",
        "# Concatenate the predictions from each batch\n",
        "predictions = np.concatenate(batch_predictions, axis=0)"
      ],
      "metadata": {
        "id": "jPxqiVtvAl7F"
      },
      "execution_count": null,
      "outputs": []
    },
    {
      "cell_type": "markdown",
      "source": [
        "## ResNet50"
      ],
      "metadata": {
        "id": "4kvLGDst8mUm"
      }
    },
    {
      "cell_type": "code",
      "source": [
        "base_model = keras.applications.ResNet50(weights='imagenet',\n",
        "                       include_top=False,\n",
        "                       input_shape= (224, 224, 3))"
      ],
      "metadata": {
        "colab": {
          "base_uri": "https://localhost:8080/"
        },
        "id": "WTDkezkD8pOI",
        "outputId": "ab0bc2f2-455c-4186-9bf5-93b4437d9371"
      },
      "execution_count": 24,
      "outputs": [
        {
          "output_type": "stream",
          "name": "stdout",
          "text": [
            "Downloading data from https://storage.googleapis.com/tensorflow/keras-applications/resnet/resnet50_weights_tf_dim_ordering_tf_kernels_notop.h5\n",
            "94765736/94765736 [==============================] - 0s 0us/step\n"
          ]
        }
      ]
    },
    {
      "cell_type": "code",
      "execution_count": 26,
      "metadata": {
        "id": "TnW9hLWA8pOI"
      },
      "outputs": [],
      "source": [
        "# Extract the last layer from third block of vgg16 model\n",
        "last = base_model.get_layer('conv3_block3_1_conv').output"
      ]
    },
    {
      "cell_type": "code",
      "execution_count": 27,
      "metadata": {
        "id": "eGF0CHeK8pOJ"
      },
      "outputs": [],
      "source": [
        "# Add classification layers on top of it\n",
        "x = GlobalAveragePooling2D()(last)\n",
        "x= BatchNormalization()(x)\n",
        "x = Dense(256, activation='relu')(x)\n",
        "x = Dense(256, activation='relu')(x)\n",
        "x = Dropout(0.6)(x)\n",
        "pred = Dense(NUM_CLASSES, activation='softmax')(x)\n",
        "ResNet50_model = Model(base_model.input, pred)"
      ]
    },
    {
      "cell_type": "code",
      "execution_count": 28,
      "metadata": {
        "id": "pnOqxHig8pOJ"
      },
      "outputs": [],
      "source": [
        "for layer in base_model.layers:\n",
        "     layer.trainable = False"
      ]
    },
    {
      "cell_type": "code",
      "execution_count": 29,
      "metadata": {
        "colab": {
          "base_uri": "https://localhost:8080/"
        },
        "id": "wCZw3Ptx8pOJ",
        "outputId": "1f2df269-33e4-4788-fce6-0414a8f57a10"
      },
      "outputs": [
        {
          "output_type": "stream",
          "name": "stderr",
          "text": [
            "WARNING:absl:`lr` is deprecated in Keras optimizer, please use `learning_rate` or use the legacy optimizer, e.g.,tf.keras.optimizers.legacy.Adam.\n"
          ]
        }
      ],
      "source": [
        "ResNet50_model.compile(loss='binary_crossentropy',\n",
        "              optimizer=optimizers.Adam(lr=LEARNING_RATE),\n",
        "              metrics=['accuracy'])"
      ]
    },
    {
      "cell_type": "code",
      "execution_count": 30,
      "metadata": {
        "colab": {
          "base_uri": "https://localhost:8080/"
        },
        "id": "7mJBSRXI8pOJ",
        "outputId": "26043c18-b1dc-4876-f824-81e1f324dad9"
      },
      "outputs": [
        {
          "output_type": "stream",
          "name": "stdout",
          "text": [
            "Model: \"model_1\"\n",
            "__________________________________________________________________________________________________\n",
            " Layer (type)                Output Shape                 Param #   Connected to                  \n",
            "==================================================================================================\n",
            " input_2 (InputLayer)        [(None, 224, 224, 3)]        0         []                            \n",
            "                                                                                                  \n",
            " conv1_pad (ZeroPadding2D)   (None, 230, 230, 3)          0         ['input_2[0][0]']             \n",
            "                                                                                                  \n",
            " conv1_conv (Conv2D)         (None, 112, 112, 64)         9472      ['conv1_pad[0][0]']           \n",
            "                                                                                                  \n",
            " conv1_bn (BatchNormalizati  (None, 112, 112, 64)         256       ['conv1_conv[0][0]']          \n",
            " on)                                                                                              \n",
            "                                                                                                  \n",
            " conv1_relu (Activation)     (None, 112, 112, 64)         0         ['conv1_bn[0][0]']            \n",
            "                                                                                                  \n",
            " pool1_pad (ZeroPadding2D)   (None, 114, 114, 64)         0         ['conv1_relu[0][0]']          \n",
            "                                                                                                  \n",
            " pool1_pool (MaxPooling2D)   (None, 56, 56, 64)           0         ['pool1_pad[0][0]']           \n",
            "                                                                                                  \n",
            " conv2_block1_1_conv (Conv2  (None, 56, 56, 64)           4160      ['pool1_pool[0][0]']          \n",
            " D)                                                                                               \n",
            "                                                                                                  \n",
            " conv2_block1_1_bn (BatchNo  (None, 56, 56, 64)           256       ['conv2_block1_1_conv[0][0]'] \n",
            " rmalization)                                                                                     \n",
            "                                                                                                  \n",
            " conv2_block1_1_relu (Activ  (None, 56, 56, 64)           0         ['conv2_block1_1_bn[0][0]']   \n",
            " ation)                                                                                           \n",
            "                                                                                                  \n",
            " conv2_block1_2_conv (Conv2  (None, 56, 56, 64)           36928     ['conv2_block1_1_relu[0][0]'] \n",
            " D)                                                                                               \n",
            "                                                                                                  \n",
            " conv2_block1_2_bn (BatchNo  (None, 56, 56, 64)           256       ['conv2_block1_2_conv[0][0]'] \n",
            " rmalization)                                                                                     \n",
            "                                                                                                  \n",
            " conv2_block1_2_relu (Activ  (None, 56, 56, 64)           0         ['conv2_block1_2_bn[0][0]']   \n",
            " ation)                                                                                           \n",
            "                                                                                                  \n",
            " conv2_block1_0_conv (Conv2  (None, 56, 56, 256)          16640     ['pool1_pool[0][0]']          \n",
            " D)                                                                                               \n",
            "                                                                                                  \n",
            " conv2_block1_3_conv (Conv2  (None, 56, 56, 256)          16640     ['conv2_block1_2_relu[0][0]'] \n",
            " D)                                                                                               \n",
            "                                                                                                  \n",
            " conv2_block1_0_bn (BatchNo  (None, 56, 56, 256)          1024      ['conv2_block1_0_conv[0][0]'] \n",
            " rmalization)                                                                                     \n",
            "                                                                                                  \n",
            " conv2_block1_3_bn (BatchNo  (None, 56, 56, 256)          1024      ['conv2_block1_3_conv[0][0]'] \n",
            " rmalization)                                                                                     \n",
            "                                                                                                  \n",
            " conv2_block1_add (Add)      (None, 56, 56, 256)          0         ['conv2_block1_0_bn[0][0]',   \n",
            "                                                                     'conv2_block1_3_bn[0][0]']   \n",
            "                                                                                                  \n",
            " conv2_block1_out (Activati  (None, 56, 56, 256)          0         ['conv2_block1_add[0][0]']    \n",
            " on)                                                                                              \n",
            "                                                                                                  \n",
            " conv2_block2_1_conv (Conv2  (None, 56, 56, 64)           16448     ['conv2_block1_out[0][0]']    \n",
            " D)                                                                                               \n",
            "                                                                                                  \n",
            " conv2_block2_1_bn (BatchNo  (None, 56, 56, 64)           256       ['conv2_block2_1_conv[0][0]'] \n",
            " rmalization)                                                                                     \n",
            "                                                                                                  \n",
            " conv2_block2_1_relu (Activ  (None, 56, 56, 64)           0         ['conv2_block2_1_bn[0][0]']   \n",
            " ation)                                                                                           \n",
            "                                                                                                  \n",
            " conv2_block2_2_conv (Conv2  (None, 56, 56, 64)           36928     ['conv2_block2_1_relu[0][0]'] \n",
            " D)                                                                                               \n",
            "                                                                                                  \n",
            " conv2_block2_2_bn (BatchNo  (None, 56, 56, 64)           256       ['conv2_block2_2_conv[0][0]'] \n",
            " rmalization)                                                                                     \n",
            "                                                                                                  \n",
            " conv2_block2_2_relu (Activ  (None, 56, 56, 64)           0         ['conv2_block2_2_bn[0][0]']   \n",
            " ation)                                                                                           \n",
            "                                                                                                  \n",
            " conv2_block2_3_conv (Conv2  (None, 56, 56, 256)          16640     ['conv2_block2_2_relu[0][0]'] \n",
            " D)                                                                                               \n",
            "                                                                                                  \n",
            " conv2_block2_3_bn (BatchNo  (None, 56, 56, 256)          1024      ['conv2_block2_3_conv[0][0]'] \n",
            " rmalization)                                                                                     \n",
            "                                                                                                  \n",
            " conv2_block2_add (Add)      (None, 56, 56, 256)          0         ['conv2_block1_out[0][0]',    \n",
            "                                                                     'conv2_block2_3_bn[0][0]']   \n",
            "                                                                                                  \n",
            " conv2_block2_out (Activati  (None, 56, 56, 256)          0         ['conv2_block2_add[0][0]']    \n",
            " on)                                                                                              \n",
            "                                                                                                  \n",
            " conv2_block3_1_conv (Conv2  (None, 56, 56, 64)           16448     ['conv2_block2_out[0][0]']    \n",
            " D)                                                                                               \n",
            "                                                                                                  \n",
            " conv2_block3_1_bn (BatchNo  (None, 56, 56, 64)           256       ['conv2_block3_1_conv[0][0]'] \n",
            " rmalization)                                                                                     \n",
            "                                                                                                  \n",
            " conv2_block3_1_relu (Activ  (None, 56, 56, 64)           0         ['conv2_block3_1_bn[0][0]']   \n",
            " ation)                                                                                           \n",
            "                                                                                                  \n",
            " conv2_block3_2_conv (Conv2  (None, 56, 56, 64)           36928     ['conv2_block3_1_relu[0][0]'] \n",
            " D)                                                                                               \n",
            "                                                                                                  \n",
            " conv2_block3_2_bn (BatchNo  (None, 56, 56, 64)           256       ['conv2_block3_2_conv[0][0]'] \n",
            " rmalization)                                                                                     \n",
            "                                                                                                  \n",
            " conv2_block3_2_relu (Activ  (None, 56, 56, 64)           0         ['conv2_block3_2_bn[0][0]']   \n",
            " ation)                                                                                           \n",
            "                                                                                                  \n",
            " conv2_block3_3_conv (Conv2  (None, 56, 56, 256)          16640     ['conv2_block3_2_relu[0][0]'] \n",
            " D)                                                                                               \n",
            "                                                                                                  \n",
            " conv2_block3_3_bn (BatchNo  (None, 56, 56, 256)          1024      ['conv2_block3_3_conv[0][0]'] \n",
            " rmalization)                                                                                     \n",
            "                                                                                                  \n",
            " conv2_block3_add (Add)      (None, 56, 56, 256)          0         ['conv2_block2_out[0][0]',    \n",
            "                                                                     'conv2_block3_3_bn[0][0]']   \n",
            "                                                                                                  \n",
            " conv2_block3_out (Activati  (None, 56, 56, 256)          0         ['conv2_block3_add[0][0]']    \n",
            " on)                                                                                              \n",
            "                                                                                                  \n",
            " conv3_block1_1_conv (Conv2  (None, 28, 28, 128)          32896     ['conv2_block3_out[0][0]']    \n",
            " D)                                                                                               \n",
            "                                                                                                  \n",
            " conv3_block1_1_bn (BatchNo  (None, 28, 28, 128)          512       ['conv3_block1_1_conv[0][0]'] \n",
            " rmalization)                                                                                     \n",
            "                                                                                                  \n",
            " conv3_block1_1_relu (Activ  (None, 28, 28, 128)          0         ['conv3_block1_1_bn[0][0]']   \n",
            " ation)                                                                                           \n",
            "                                                                                                  \n",
            " conv3_block1_2_conv (Conv2  (None, 28, 28, 128)          147584    ['conv3_block1_1_relu[0][0]'] \n",
            " D)                                                                                               \n",
            "                                                                                                  \n",
            " conv3_block1_2_bn (BatchNo  (None, 28, 28, 128)          512       ['conv3_block1_2_conv[0][0]'] \n",
            " rmalization)                                                                                     \n",
            "                                                                                                  \n",
            " conv3_block1_2_relu (Activ  (None, 28, 28, 128)          0         ['conv3_block1_2_bn[0][0]']   \n",
            " ation)                                                                                           \n",
            "                                                                                                  \n",
            " conv3_block1_0_conv (Conv2  (None, 28, 28, 512)          131584    ['conv2_block3_out[0][0]']    \n",
            " D)                                                                                               \n",
            "                                                                                                  \n",
            " conv3_block1_3_conv (Conv2  (None, 28, 28, 512)          66048     ['conv3_block1_2_relu[0][0]'] \n",
            " D)                                                                                               \n",
            "                                                                                                  \n",
            " conv3_block1_0_bn (BatchNo  (None, 28, 28, 512)          2048      ['conv3_block1_0_conv[0][0]'] \n",
            " rmalization)                                                                                     \n",
            "                                                                                                  \n",
            " conv3_block1_3_bn (BatchNo  (None, 28, 28, 512)          2048      ['conv3_block1_3_conv[0][0]'] \n",
            " rmalization)                                                                                     \n",
            "                                                                                                  \n",
            " conv3_block1_add (Add)      (None, 28, 28, 512)          0         ['conv3_block1_0_bn[0][0]',   \n",
            "                                                                     'conv3_block1_3_bn[0][0]']   \n",
            "                                                                                                  \n",
            " conv3_block1_out (Activati  (None, 28, 28, 512)          0         ['conv3_block1_add[0][0]']    \n",
            " on)                                                                                              \n",
            "                                                                                                  \n",
            " conv3_block2_1_conv (Conv2  (None, 28, 28, 128)          65664     ['conv3_block1_out[0][0]']    \n",
            " D)                                                                                               \n",
            "                                                                                                  \n",
            " conv3_block2_1_bn (BatchNo  (None, 28, 28, 128)          512       ['conv3_block2_1_conv[0][0]'] \n",
            " rmalization)                                                                                     \n",
            "                                                                                                  \n",
            " conv3_block2_1_relu (Activ  (None, 28, 28, 128)          0         ['conv3_block2_1_bn[0][0]']   \n",
            " ation)                                                                                           \n",
            "                                                                                                  \n",
            " conv3_block2_2_conv (Conv2  (None, 28, 28, 128)          147584    ['conv3_block2_1_relu[0][0]'] \n",
            " D)                                                                                               \n",
            "                                                                                                  \n",
            " conv3_block2_2_bn (BatchNo  (None, 28, 28, 128)          512       ['conv3_block2_2_conv[0][0]'] \n",
            " rmalization)                                                                                     \n",
            "                                                                                                  \n",
            " conv3_block2_2_relu (Activ  (None, 28, 28, 128)          0         ['conv3_block2_2_bn[0][0]']   \n",
            " ation)                                                                                           \n",
            "                                                                                                  \n",
            " conv3_block2_3_conv (Conv2  (None, 28, 28, 512)          66048     ['conv3_block2_2_relu[0][0]'] \n",
            " D)                                                                                               \n",
            "                                                                                                  \n",
            " conv3_block2_3_bn (BatchNo  (None, 28, 28, 512)          2048      ['conv3_block2_3_conv[0][0]'] \n",
            " rmalization)                                                                                     \n",
            "                                                                                                  \n",
            " conv3_block2_add (Add)      (None, 28, 28, 512)          0         ['conv3_block1_out[0][0]',    \n",
            "                                                                     'conv3_block2_3_bn[0][0]']   \n",
            "                                                                                                  \n",
            " conv3_block2_out (Activati  (None, 28, 28, 512)          0         ['conv3_block2_add[0][0]']    \n",
            " on)                                                                                              \n",
            "                                                                                                  \n",
            " conv3_block3_1_conv (Conv2  (None, 28, 28, 128)          65664     ['conv3_block2_out[0][0]']    \n",
            " D)                                                                                               \n",
            "                                                                                                  \n",
            " global_average_pooling2d_1  (None, 128)                  0         ['conv3_block3_1_conv[0][0]'] \n",
            "  (GlobalAveragePooling2D)                                                                        \n",
            "                                                                                                  \n",
            " batch_normalization_5 (Bat  (None, 128)                  512       ['global_average_pooling2d_1[0\n",
            " chNormalization)                                                   ][0]']                        \n",
            "                                                                                                  \n",
            " dense_3 (Dense)             (None, 256)                  33024     ['batch_normalization_5[0][0]'\n",
            "                                                                    ]                             \n",
            "                                                                                                  \n",
            " dense_4 (Dense)             (None, 256)                  65792     ['dense_3[0][0]']             \n",
            "                                                                                                  \n",
            " dropout_1 (Dropout)         (None, 256)                  0         ['dense_4[0][0]']             \n",
            "                                                                                                  \n",
            " dense_5 (Dense)             (None, 10)                   2570      ['dropout_1[0][0]']           \n",
            "                                                                                                  \n",
            "==================================================================================================\n",
            "Total params: 1062922 (4.05 MB)\n",
            "Trainable params: 101642 (397.04 KB)\n",
            "Non-trainable params: 961280 (3.67 MB)\n",
            "__________________________________________________________________________________________________\n"
          ]
        }
      ],
      "source": [
        "ResNet50_model.summary()"
      ]
    },
    {
      "cell_type": "code",
      "execution_count": 32,
      "metadata": {
        "scrolled": false,
        "colab": {
          "base_uri": "https://localhost:8080/"
        },
        "id": "ZcPQP1cR8pOJ",
        "outputId": "d6ed1130-7cf3-474e-901e-a793eaea12a0"
      },
      "outputs": [
        {
          "output_type": "stream",
          "name": "stdout",
          "text": [
            "Epoch 1/40\n",
            "1328/1328 [==============================] - 24s 15ms/step - loss: 0.3352 - accuracy: 0.1017 - val_loss: 0.3250 - val_accuracy: 0.0998\n",
            "Epoch 2/40\n",
            "1328/1328 [==============================] - 13s 10ms/step - loss: 0.3199 - accuracy: 0.1461 - val_loss: 0.2881 - val_accuracy: 0.2754\n",
            "Epoch 3/40\n",
            "1328/1328 [==============================] - 14s 10ms/step - loss: 0.2887 - accuracy: 0.2723 - val_loss: 0.2788 - val_accuracy: 0.3013\n",
            "Epoch 4/40\n",
            "1328/1328 [==============================] - 12s 9ms/step - loss: 0.2776 - accuracy: 0.3086 - val_loss: 0.2642 - val_accuracy: 0.3444\n",
            "Epoch 5/40\n",
            "1328/1328 [==============================] - 12s 9ms/step - loss: 0.2694 - accuracy: 0.3420 - val_loss: 0.2698 - val_accuracy: 0.3316\n",
            "Epoch 6/40\n",
            "1328/1328 [==============================] - 12s 9ms/step - loss: 0.2643 - accuracy: 0.3562 - val_loss: 0.2477 - val_accuracy: 0.4087\n",
            "Epoch 7/40\n",
            "1328/1328 [==============================] - 12s 9ms/step - loss: 0.2594 - accuracy: 0.3749 - val_loss: 0.2480 - val_accuracy: 0.3964\n",
            "Epoch 8/40\n",
            "1328/1328 [==============================] - 12s 9ms/step - loss: 0.2559 - accuracy: 0.3854 - val_loss: 0.2445 - val_accuracy: 0.4091\n",
            "Epoch 9/40\n",
            "1328/1328 [==============================] - 12s 9ms/step - loss: 0.2528 - accuracy: 0.3963 - val_loss: 0.2437 - val_accuracy: 0.4092\n",
            "Epoch 10/40\n",
            "1328/1328 [==============================] - 12s 9ms/step - loss: 0.2505 - accuracy: 0.4040 - val_loss: 0.2351 - val_accuracy: 0.4462\n",
            "Epoch 11/40\n",
            "1328/1328 [==============================] - 13s 10ms/step - loss: 0.2471 - accuracy: 0.4162 - val_loss: 0.2312 - val_accuracy: 0.4589\n",
            "Epoch 12/40\n",
            "1328/1328 [==============================] - 12s 9ms/step - loss: 0.2451 - accuracy: 0.4210 - val_loss: 0.2291 - val_accuracy: 0.4626\n",
            "Epoch 13/40\n",
            "1328/1328 [==============================] - 12s 9ms/step - loss: 0.2439 - accuracy: 0.4241 - val_loss: 0.2419 - val_accuracy: 0.4227\n",
            "Epoch 14/40\n",
            "1328/1328 [==============================] - 12s 9ms/step - loss: 0.2421 - accuracy: 0.4283 - val_loss: 0.2424 - val_accuracy: 0.4244\n",
            "Epoch 15/40\n",
            "1328/1328 [==============================] - 12s 9ms/step - loss: 0.2395 - accuracy: 0.4414 - val_loss: 0.2279 - val_accuracy: 0.4625\n",
            "Epoch 16/40\n",
            "1328/1328 [==============================] - 12s 9ms/step - loss: 0.2381 - accuracy: 0.4431 - val_loss: 0.2537 - val_accuracy: 0.4045\n",
            "Epoch 17/40\n",
            "1328/1328 [==============================] - 12s 9ms/step - loss: 0.2363 - accuracy: 0.4491 - val_loss: 0.2219 - val_accuracy: 0.4865\n",
            "Epoch 18/40\n",
            "1328/1328 [==============================] - 12s 9ms/step - loss: 0.2344 - accuracy: 0.4539 - val_loss: 0.2246 - val_accuracy: 0.4765\n",
            "Epoch 19/40\n",
            "1328/1328 [==============================] - 13s 10ms/step - loss: 0.2345 - accuracy: 0.4536 - val_loss: 0.2213 - val_accuracy: 0.4948\n",
            "Epoch 20/40\n",
            "1328/1328 [==============================] - 12s 9ms/step - loss: 0.2329 - accuracy: 0.4575 - val_loss: 0.2247 - val_accuracy: 0.4794\n",
            "Epoch 21/40\n",
            "1328/1328 [==============================] - 12s 9ms/step - loss: 0.2307 - accuracy: 0.4632 - val_loss: 0.2221 - val_accuracy: 0.4809\n",
            "Epoch 22/40\n",
            "1328/1328 [==============================] - 12s 9ms/step - loss: 0.2305 - accuracy: 0.4686 - val_loss: 0.2220 - val_accuracy: 0.4813\n",
            "Epoch 23/40\n",
            "1328/1328 [==============================] - 12s 9ms/step - loss: 0.2285 - accuracy: 0.4729 - val_loss: 0.2235 - val_accuracy: 0.4805\n",
            "Epoch 24/40\n",
            "1328/1328 [==============================] - 12s 9ms/step - loss: 0.2276 - accuracy: 0.4750 - val_loss: 0.2188 - val_accuracy: 0.4890\n",
            "Epoch 25/40\n",
            "1328/1328 [==============================] - 12s 9ms/step - loss: 0.2269 - accuracy: 0.4744 - val_loss: 0.2139 - val_accuracy: 0.5052\n",
            "Epoch 26/40\n",
            "1328/1328 [==============================] - 12s 9ms/step - loss: 0.2254 - accuracy: 0.4816 - val_loss: 0.2172 - val_accuracy: 0.4973\n",
            "Epoch 27/40\n",
            "1328/1328 [==============================] - 12s 9ms/step - loss: 0.2251 - accuracy: 0.4810 - val_loss: 0.2117 - val_accuracy: 0.5128\n",
            "Epoch 28/40\n",
            "1328/1328 [==============================] - 12s 9ms/step - loss: 0.2235 - accuracy: 0.4885 - val_loss: 0.2178 - val_accuracy: 0.4967\n",
            "Epoch 29/40\n",
            "1328/1328 [==============================] - 12s 9ms/step - loss: 0.2223 - accuracy: 0.4916 - val_loss: 0.2133 - val_accuracy: 0.5096\n",
            "Epoch 30/40\n",
            "1328/1328 [==============================] - 12s 9ms/step - loss: 0.2220 - accuracy: 0.4915 - val_loss: 0.2169 - val_accuracy: 0.4940\n",
            "Epoch 31/40\n",
            "1328/1328 [==============================] - 12s 9ms/step - loss: 0.2222 - accuracy: 0.4885 - val_loss: 0.2164 - val_accuracy: 0.4991\n",
            "Epoch 32/40\n",
            "1328/1328 [==============================] - 12s 9ms/step - loss: 0.2206 - accuracy: 0.4926 - val_loss: 0.2139 - val_accuracy: 0.5067\n",
            "Epoch 33/40\n",
            "1328/1328 [==============================] - 12s 9ms/step - loss: 0.2196 - accuracy: 0.4992 - val_loss: 0.2071 - val_accuracy: 0.5222\n",
            "Epoch 34/40\n",
            "1328/1328 [==============================] - 12s 9ms/step - loss: 0.2187 - accuracy: 0.5001 - val_loss: 0.2111 - val_accuracy: 0.5216\n",
            "Epoch 35/40\n",
            "1328/1328 [==============================] - 12s 9ms/step - loss: 0.2180 - accuracy: 0.5041 - val_loss: 0.2097 - val_accuracy: 0.5172\n",
            "Epoch 36/40\n",
            "1328/1328 [==============================] - 12s 9ms/step - loss: 0.2171 - accuracy: 0.5069 - val_loss: 0.2103 - val_accuracy: 0.5146\n",
            "Epoch 37/40\n",
            "1328/1328 [==============================] - 12s 9ms/step - loss: 0.2163 - accuracy: 0.5084 - val_loss: 0.2151 - val_accuracy: 0.4997\n",
            "Epoch 38/40\n",
            "1328/1328 [==============================] - 12s 9ms/step - loss: 0.2156 - accuracy: 0.5106 - val_loss: 0.2187 - val_accuracy: 0.4993\n",
            "Epoch 39/40\n",
            "1328/1328 [==============================] - 13s 10ms/step - loss: 0.2139 - accuracy: 0.5127 - val_loss: 0.2081 - val_accuracy: 0.5170\n",
            "Epoch 40/40\n",
            "1328/1328 [==============================] - 12s 9ms/step - loss: 0.2140 - accuracy: 0.5155 - val_loss: 0.2105 - val_accuracy: 0.5220\n"
          ]
        }
      ],
      "source": [
        "history = ResNet50_model.fit_generator(train_generator,\n",
        "                              steps_per_epoch=train_steps_per_epoch,\n",
        "                              validation_data=val_generator,\n",
        "                              validation_steps=val_steps_per_epoch,\n",
        "                              epochs=EPOCHS,\n",
        "                              verbose=1)"
      ]
    },
    {
      "cell_type": "code",
      "source": [
        "ResNet50_model.save(\"ResNet50_model.h5\")"
      ],
      "metadata": {
        "id": "d3gPvZplDW0o"
      },
      "execution_count": 33,
      "outputs": []
    },
    {
      "cell_type": "code",
      "source": [
        "predictions = ResNet50_model.predict(X_test/255.)"
      ],
      "metadata": {
        "id": "nIkztcTZ8pOK"
      },
      "execution_count": null,
      "outputs": []
    },
    {
      "cell_type": "code",
      "source": [],
      "metadata": {
        "id": "TR86eJRWGNnA"
      },
      "execution_count": null,
      "outputs": []
    },
    {
      "cell_type": "markdown",
      "source": [
        "## InceptionV3"
      ],
      "metadata": {
        "id": "4TnuAdjuGN3d"
      }
    },
    {
      "cell_type": "code",
      "source": [
        "import keras"
      ],
      "metadata": {
        "id": "bAGYGXYbGN3d"
      },
      "execution_count": null,
      "outputs": []
    },
    {
      "cell_type": "code",
      "source": [
        "base_model =keras.applications.InceptionV3(weights='imagenet',\n",
        "                       include_top=False,\n",
        "                      input_shape = (299, 299, 3))"
      ],
      "metadata": {
        "colab": {
          "base_uri": "https://localhost:8080/"
        },
        "id": "yvEhiOYFGN3e",
        "outputId": "e6b2c8e5-b7b3-44f0-cd1b-fcc4b2e3a669"
      },
      "execution_count": 35,
      "outputs": [
        {
          "output_type": "stream",
          "name": "stdout",
          "text": [
            "Downloading data from https://storage.googleapis.com/tensorflow/keras-applications/inception_v3/inception_v3_weights_tf_dim_ordering_tf_kernels_notop.h5\n",
            "87910968/87910968 [==============================] - 1s 0us/step\n"
          ]
        }
      ]
    },
    {
      "cell_type": "code",
      "execution_count": 37,
      "metadata": {
        "id": "Zc4KtnDVGN3f"
      },
      "outputs": [],
      "source": [
        "# Extract the last layer from third block of vgg16 model\n",
        "last = base_model.get_layer('conv2d_29').output"
      ]
    },
    {
      "cell_type": "code",
      "execution_count": 42,
      "metadata": {
        "id": "QFzy8NKcGN3f"
      },
      "outputs": [],
      "source": [
        "# Add classification layers on top of it\n",
        "x = GlobalAveragePooling2D()(last)\n",
        "x= BatchNormalization()(x)\n",
        "x = Dense(256, activation='relu')(x)\n",
        "x = Dense(256, activation='relu')(x)\n",
        "x = Dropout(0.6)(x)\n",
        "pred = Dense(NUM_CLASSES, activation='softmax')(x)\n",
        "InceptionV3 = Model(base_model.input, pred)"
      ]
    },
    {
      "cell_type": "code",
      "execution_count": 39,
      "metadata": {
        "id": "u3DBkA7bGN3g"
      },
      "outputs": [],
      "source": [
        "for layer in base_model.layers:\n",
        "     layer.trainable = False"
      ]
    },
    {
      "cell_type": "code",
      "execution_count": 43,
      "metadata": {
        "colab": {
          "base_uri": "https://localhost:8080/"
        },
        "outputId": "cd68c67c-7566-412d-e154-820af088966a",
        "id": "l_0-x5xSGN3g"
      },
      "outputs": [
        {
          "output_type": "stream",
          "name": "stderr",
          "text": [
            "WARNING:absl:`lr` is deprecated in Keras optimizer, please use `learning_rate` or use the legacy optimizer, e.g.,tf.keras.optimizers.legacy.Adam.\n"
          ]
        }
      ],
      "source": [
        "InceptionV3.compile(loss='binary_crossentropy',\n",
        "              optimizer=optimizers.Adam(lr=LEARNING_RATE),\n",
        "              metrics=['accuracy'])"
      ]
    },
    {
      "cell_type": "code",
      "execution_count": 44,
      "metadata": {
        "colab": {
          "base_uri": "https://localhost:8080/"
        },
        "outputId": "884e4dc2-09c7-4fb2-df8e-669c12af8a69",
        "id": "9NsJ00WjGN3h"
      },
      "outputs": [
        {
          "output_type": "stream",
          "name": "stdout",
          "text": [
            "                                                                                                  \n",
            " conv2d_13 (Conv2D)          (None, 35, 35, 96)           55296     ['activation_8[0][0]']        \n",
            "                                                                                                  \n",
            " batch_normalization_12 (Ba  (None, 35, 35, 48)           144       ['conv2d_10[0][0]']           \n",
            " tchNormalization)                                                                                \n",
            "                                                                                                  \n",
            " batch_normalization_15 (Ba  (None, 35, 35, 96)           288       ['conv2d_13[0][0]']           \n",
            " tchNormalization)                                                                                \n",
            "                                                                                                  \n",
            " activation_6 (Activation)   (None, 35, 35, 48)           0         ['batch_normalization_12[0][0]\n",
            "                                                                    ']                            \n",
            "                                                                                                  \n",
            " activation_9 (Activation)   (None, 35, 35, 96)           0         ['batch_normalization_15[0][0]\n",
            "                                                                    ']                            \n",
            "                                                                                                  \n",
            " average_pooling2d (Average  (None, 35, 35, 192)          0         ['max_pooling2d_1[0][0]']     \n",
            " Pooling2D)                                                                                       \n",
            "                                                                                                  \n",
            " conv2d_9 (Conv2D)           (None, 35, 35, 64)           12288     ['max_pooling2d_1[0][0]']     \n",
            "                                                                                                  \n",
            " conv2d_11 (Conv2D)          (None, 35, 35, 64)           76800     ['activation_6[0][0]']        \n",
            "                                                                                                  \n",
            " conv2d_14 (Conv2D)          (None, 35, 35, 96)           82944     ['activation_9[0][0]']        \n",
            "                                                                                                  \n",
            " conv2d_15 (Conv2D)          (None, 35, 35, 32)           6144      ['average_pooling2d[0][0]']   \n",
            "                                                                                                  \n",
            " batch_normalization_11 (Ba  (None, 35, 35, 64)           192       ['conv2d_9[0][0]']            \n",
            " tchNormalization)                                                                                \n",
            "                                                                                                  \n",
            " batch_normalization_13 (Ba  (None, 35, 35, 64)           192       ['conv2d_11[0][0]']           \n",
            " tchNormalization)                                                                                \n",
            "                                                                                                  \n",
            " batch_normalization_16 (Ba  (None, 35, 35, 96)           288       ['conv2d_14[0][0]']           \n",
            " tchNormalization)                                                                                \n",
            "                                                                                                  \n",
            " batch_normalization_17 (Ba  (None, 35, 35, 32)           96        ['conv2d_15[0][0]']           \n",
            " tchNormalization)                                                                                \n",
            "                                                                                                  \n",
            " activation_5 (Activation)   (None, 35, 35, 64)           0         ['batch_normalization_11[0][0]\n",
            "                                                                    ']                            \n",
            "                                                                                                  \n",
            " activation_7 (Activation)   (None, 35, 35, 64)           0         ['batch_normalization_13[0][0]\n",
            "                                                                    ']                            \n",
            "                                                                                                  \n",
            " activation_10 (Activation)  (None, 35, 35, 96)           0         ['batch_normalization_16[0][0]\n",
            "                                                                    ']                            \n",
            "                                                                                                  \n",
            " activation_11 (Activation)  (None, 35, 35, 32)           0         ['batch_normalization_17[0][0]\n",
            "                                                                    ']                            \n",
            "                                                                                                  \n",
            " mixed0 (Concatenate)        (None, 35, 35, 256)          0         ['activation_5[0][0]',        \n",
            "                                                                     'activation_7[0][0]',        \n",
            "                                                                     'activation_10[0][0]',       \n",
            "                                                                     'activation_11[0][0]']       \n",
            "                                                                                                  \n",
            " conv2d_19 (Conv2D)          (None, 35, 35, 64)           16384     ['mixed0[0][0]']              \n",
            "                                                                                                  \n",
            " batch_normalization_21 (Ba  (None, 35, 35, 64)           192       ['conv2d_19[0][0]']           \n",
            " tchNormalization)                                                                                \n",
            "                                                                                                  \n",
            " activation_15 (Activation)  (None, 35, 35, 64)           0         ['batch_normalization_21[0][0]\n",
            "                                                                    ']                            \n",
            "                                                                                                  \n",
            " conv2d_17 (Conv2D)          (None, 35, 35, 48)           12288     ['mixed0[0][0]']              \n",
            "                                                                                                  \n",
            " conv2d_20 (Conv2D)          (None, 35, 35, 96)           55296     ['activation_15[0][0]']       \n",
            "                                                                                                  \n",
            " batch_normalization_19 (Ba  (None, 35, 35, 48)           144       ['conv2d_17[0][0]']           \n",
            " tchNormalization)                                                                                \n",
            "                                                                                                  \n",
            " batch_normalization_22 (Ba  (None, 35, 35, 96)           288       ['conv2d_20[0][0]']           \n",
            " tchNormalization)                                                                                \n",
            "                                                                                                  \n",
            " activation_13 (Activation)  (None, 35, 35, 48)           0         ['batch_normalization_19[0][0]\n",
            "                                                                    ']                            \n",
            "                                                                                                  \n",
            " activation_16 (Activation)  (None, 35, 35, 96)           0         ['batch_normalization_22[0][0]\n",
            "                                                                    ']                            \n",
            "                                                                                                  \n",
            " average_pooling2d_1 (Avera  (None, 35, 35, 256)          0         ['mixed0[0][0]']              \n",
            " gePooling2D)                                                                                     \n",
            "                                                                                                  \n",
            " conv2d_16 (Conv2D)          (None, 35, 35, 64)           16384     ['mixed0[0][0]']              \n",
            "                                                                                                  \n",
            " conv2d_18 (Conv2D)          (None, 35, 35, 64)           76800     ['activation_13[0][0]']       \n",
            "                                                                                                  \n",
            " conv2d_21 (Conv2D)          (None, 35, 35, 96)           82944     ['activation_16[0][0]']       \n",
            "                                                                                                  \n",
            " conv2d_22 (Conv2D)          (None, 35, 35, 64)           16384     ['average_pooling2d_1[0][0]'] \n",
            "                                                                                                  \n",
            " batch_normalization_18 (Ba  (None, 35, 35, 64)           192       ['conv2d_16[0][0]']           \n",
            " tchNormalization)                                                                                \n",
            "                                                                                                  \n",
            " batch_normalization_20 (Ba  (None, 35, 35, 64)           192       ['conv2d_18[0][0]']           \n",
            " tchNormalization)                                                                                \n",
            "                                                                                                  \n",
            " batch_normalization_23 (Ba  (None, 35, 35, 96)           288       ['conv2d_21[0][0]']           \n",
            " tchNormalization)                                                                                \n",
            "                                                                                                  \n",
            " batch_normalization_24 (Ba  (None, 35, 35, 64)           192       ['conv2d_22[0][0]']           \n",
            " tchNormalization)                                                                                \n",
            "                                                                                                  \n",
            " activation_12 (Activation)  (None, 35, 35, 64)           0         ['batch_normalization_18[0][0]\n",
            "                                                                    ']                            \n",
            "                                                                                                  \n",
            " activation_14 (Activation)  (None, 35, 35, 64)           0         ['batch_normalization_20[0][0]\n",
            "                                                                    ']                            \n",
            "                                                                                                  \n",
            " activation_17 (Activation)  (None, 35, 35, 96)           0         ['batch_normalization_23[0][0]\n",
            "                                                                    ']                            \n",
            "                                                                                                  \n",
            " activation_18 (Activation)  (None, 35, 35, 64)           0         ['batch_normalization_24[0][0]\n",
            "                                                                    ']                            \n",
            "                                                                                                  \n",
            " mixed1 (Concatenate)        (None, 35, 35, 288)          0         ['activation_12[0][0]',       \n",
            "                                                                     'activation_14[0][0]',       \n",
            "                                                                     'activation_17[0][0]',       \n",
            "                                                                     'activation_18[0][0]']       \n",
            "                                                                                                  \n",
            " average_pooling2d_2 (Avera  (None, 35, 35, 288)          0         ['mixed1[0][0]']              \n",
            " gePooling2D)                                                                                     \n",
            "                                                                                                  \n",
            " conv2d_29 (Conv2D)          (None, 35, 35, 64)           18432     ['average_pooling2d_2[0][0]'] \n",
            "                                                                                                  \n",
            " global_average_pooling2d_3  (None, 64)                   0         ['conv2d_29[0][0]']           \n",
            "  (GlobalAveragePooling2D)                                                                        \n",
            "                                                                                                  \n",
            " batch_normalization_101 (B  (None, 64)                   256       ['global_average_pooling2d_3[0\n",
            " atchNormalization)                                                 ][0]']                        \n",
            "                                                                                                  \n",
            " dense_9 (Dense)             (None, 256)                  16640     ['batch_normalization_101[0][0\n",
            "                                                                    ]']                           \n",
            "                                                                                                  \n",
            " dense_10 (Dense)            (None, 256)                  65792     ['dense_9[0][0]']             \n",
            "                                                                                                  \n",
            " dropout_3 (Dropout)         (None, 256)                  0         ['dense_10[0][0]']            \n",
            "                                                                                                  \n",
            " dense_11 (Dense)            (None, 10)                   2570      ['dropout_3[0][0]']           \n",
            "                                                                                                  \n",
            "==================================================================================================\n",
            "Total params: 811098 (3.09 MB)\n",
            "Trainable params: 85130 (332.54 KB)\n",
            "Non-trainable params: 725968 (2.77 MB)\n",
            "__________________________________________________________________________________________________\n"
          ]
        }
      ],
      "source": [
        "InceptionV3.summary()"
      ]
    },
    {
      "cell_type": "code",
      "execution_count": 45,
      "metadata": {
        "colab": {
          "base_uri": "https://localhost:8080/"
        },
        "outputId": "74f5f117-bff1-4ba4-97e0-09593781f319",
        "scrolled": false,
        "id": "3aMFIkhnGN3h"
      },
      "outputs": [
        {
          "output_type": "stream",
          "name": "stdout",
          "text": [
            "Epoch 1/40\n",
            "1328/1328 [==============================] - 14s 9ms/step - loss: 0.2710 - accuracy: 0.3673 - val_loss: 0.2337 - val_accuracy: 0.4525\n",
            "Epoch 2/40\n",
            "1328/1328 [==============================] - 11s 8ms/step - loss: 0.2424 - accuracy: 0.4424 - val_loss: 0.2238 - val_accuracy: 0.4848\n",
            "Epoch 3/40\n",
            "1328/1328 [==============================] - 11s 8ms/step - loss: 0.2344 - accuracy: 0.4646 - val_loss: 0.2191 - val_accuracy: 0.4925\n",
            "Epoch 4/40\n",
            "1328/1328 [==============================] - 11s 8ms/step - loss: 0.2293 - accuracy: 0.4795 - val_loss: 0.2170 - val_accuracy: 0.5076\n",
            "Epoch 5/40\n",
            "1328/1328 [==============================] - 11s 8ms/step - loss: 0.2261 - accuracy: 0.4904 - val_loss: 0.2112 - val_accuracy: 0.5154\n",
            "Epoch 6/40\n",
            "1328/1328 [==============================] - 11s 8ms/step - loss: 0.2232 - accuracy: 0.4953 - val_loss: 0.2104 - val_accuracy: 0.5214\n",
            "Epoch 7/40\n",
            "1328/1328 [==============================] - 11s 8ms/step - loss: 0.2203 - accuracy: 0.5047 - val_loss: 0.2095 - val_accuracy: 0.5275\n",
            "Epoch 8/40\n",
            "1328/1328 [==============================] - 12s 9ms/step - loss: 0.2179 - accuracy: 0.5101 - val_loss: 0.2095 - val_accuracy: 0.5308\n",
            "Epoch 9/40\n",
            "1328/1328 [==============================] - 11s 8ms/step - loss: 0.2164 - accuracy: 0.5157 - val_loss: 0.2043 - val_accuracy: 0.5394\n",
            "Epoch 10/40\n",
            "1328/1328 [==============================] - 11s 8ms/step - loss: 0.2146 - accuracy: 0.5206 - val_loss: 0.2047 - val_accuracy: 0.5345\n",
            "Epoch 11/40\n",
            "1328/1328 [==============================] - 11s 8ms/step - loss: 0.2139 - accuracy: 0.5218 - val_loss: 0.2004 - val_accuracy: 0.5489\n",
            "Epoch 12/40\n",
            "1328/1328 [==============================] - 12s 9ms/step - loss: 0.2119 - accuracy: 0.5259 - val_loss: 0.2027 - val_accuracy: 0.5471\n",
            "Epoch 13/40\n",
            "1328/1328 [==============================] - 11s 8ms/step - loss: 0.2111 - accuracy: 0.5272 - val_loss: 0.2013 - val_accuracy: 0.5459\n",
            "Epoch 14/40\n",
            "1328/1328 [==============================] - 11s 8ms/step - loss: 0.2102 - accuracy: 0.5323 - val_loss: 0.1996 - val_accuracy: 0.5469\n",
            "Epoch 15/40\n",
            "1328/1328 [==============================] - 11s 8ms/step - loss: 0.2088 - accuracy: 0.5346 - val_loss: 0.1992 - val_accuracy: 0.5506\n",
            "Epoch 16/40\n",
            "1328/1328 [==============================] - 11s 8ms/step - loss: 0.2077 - accuracy: 0.5387 - val_loss: 0.1969 - val_accuracy: 0.5586\n",
            "Epoch 17/40\n",
            "1328/1328 [==============================] - 11s 8ms/step - loss: 0.2070 - accuracy: 0.5402 - val_loss: 0.1989 - val_accuracy: 0.5507\n",
            "Epoch 18/40\n",
            "1328/1328 [==============================] - 11s 8ms/step - loss: 0.2059 - accuracy: 0.5440 - val_loss: 0.2002 - val_accuracy: 0.5497\n",
            "Epoch 19/40\n",
            "1328/1328 [==============================] - 11s 8ms/step - loss: 0.2046 - accuracy: 0.5486 - val_loss: 0.1982 - val_accuracy: 0.5536\n",
            "Epoch 20/40\n",
            "1328/1328 [==============================] - 11s 8ms/step - loss: 0.2046 - accuracy: 0.5459 - val_loss: 0.1972 - val_accuracy: 0.5545\n",
            "Epoch 21/40\n",
            "1328/1328 [==============================] - 11s 8ms/step - loss: 0.2046 - accuracy: 0.5485 - val_loss: 0.1969 - val_accuracy: 0.5618\n",
            "Epoch 22/40\n",
            "1328/1328 [==============================] - 11s 8ms/step - loss: 0.2031 - accuracy: 0.5464 - val_loss: 0.1958 - val_accuracy: 0.5646\n",
            "Epoch 23/40\n",
            "1328/1328 [==============================] - 11s 8ms/step - loss: 0.2025 - accuracy: 0.5515 - val_loss: 0.1950 - val_accuracy: 0.5613\n",
            "Epoch 24/40\n",
            "1328/1328 [==============================] - 11s 8ms/step - loss: 0.2021 - accuracy: 0.5514 - val_loss: 0.1943 - val_accuracy: 0.5628\n",
            "Epoch 25/40\n",
            "1328/1328 [==============================] - 12s 9ms/step - loss: 0.2012 - accuracy: 0.5532 - val_loss: 0.1948 - val_accuracy: 0.5616\n",
            "Epoch 26/40\n",
            "1328/1328 [==============================] - 11s 8ms/step - loss: 0.2006 - accuracy: 0.5568 - val_loss: 0.1971 - val_accuracy: 0.5580\n",
            "Epoch 27/40\n",
            "1328/1328 [==============================] - 11s 8ms/step - loss: 0.1996 - accuracy: 0.5598 - val_loss: 0.1949 - val_accuracy: 0.5634\n",
            "Epoch 28/40\n",
            "1328/1328 [==============================] - 11s 8ms/step - loss: 0.1990 - accuracy: 0.5596 - val_loss: 0.1972 - val_accuracy: 0.5568\n",
            "Epoch 29/40\n",
            "1328/1328 [==============================] - 11s 8ms/step - loss: 0.1995 - accuracy: 0.5616 - val_loss: 0.1962 - val_accuracy: 0.5578\n",
            "Epoch 30/40\n",
            "1328/1328 [==============================] - 11s 8ms/step - loss: 0.1985 - accuracy: 0.5611 - val_loss: 0.1947 - val_accuracy: 0.5625\n",
            "Epoch 31/40\n",
            "1328/1328 [==============================] - 11s 8ms/step - loss: 0.1982 - accuracy: 0.5637 - val_loss: 0.1961 - val_accuracy: 0.5589\n",
            "Epoch 32/40\n",
            "1328/1328 [==============================] - 11s 8ms/step - loss: 0.1967 - accuracy: 0.5659 - val_loss: 0.1934 - val_accuracy: 0.5654\n",
            "Epoch 33/40\n",
            "1328/1328 [==============================] - 11s 8ms/step - loss: 0.1967 - accuracy: 0.5642 - val_loss: 0.1937 - val_accuracy: 0.5660\n",
            "Epoch 34/40\n",
            "1328/1328 [==============================] - 11s 8ms/step - loss: 0.1957 - accuracy: 0.5674 - val_loss: 0.1956 - val_accuracy: 0.5638\n",
            "Epoch 35/40\n",
            "1328/1328 [==============================] - 12s 9ms/step - loss: 0.1956 - accuracy: 0.5682 - val_loss: 0.1926 - val_accuracy: 0.5672\n",
            "Epoch 36/40\n",
            "1328/1328 [==============================] - 11s 8ms/step - loss: 0.1953 - accuracy: 0.5698 - val_loss: 0.1935 - val_accuracy: 0.5716\n",
            "Epoch 37/40\n",
            "1328/1328 [==============================] - 10s 8ms/step - loss: 0.1948 - accuracy: 0.5697 - val_loss: 0.1939 - val_accuracy: 0.5726\n",
            "Epoch 38/40\n",
            "1328/1328 [==============================] - 11s 8ms/step - loss: 0.1942 - accuracy: 0.5723 - val_loss: 0.1935 - val_accuracy: 0.5648\n",
            "Epoch 39/40\n",
            "1328/1328 [==============================] - 12s 9ms/step - loss: 0.1931 - accuracy: 0.5747 - val_loss: 0.1954 - val_accuracy: 0.5650\n",
            "Epoch 40/40\n",
            "1328/1328 [==============================] - 11s 8ms/step - loss: 0.1934 - accuracy: 0.5743 - val_loss: 0.1923 - val_accuracy: 0.5692\n"
          ]
        }
      ],
      "source": [
        "history = InceptionV3.fit_generator(train_generator,\n",
        "                              steps_per_epoch=train_steps_per_epoch,\n",
        "                              validation_data=val_generator,\n",
        "                              validation_steps=val_steps_per_epoch,\n",
        "                              epochs=EPOCHS,\n",
        "                              verbose=1)"
      ]
    },
    {
      "cell_type": "code",
      "source": [
        "InceptionV3.save(\"InceptionV3.h5\")"
      ],
      "metadata": {
        "id": "KR_mGhpeGN3i"
      },
      "execution_count": 46,
      "outputs": []
    },
    {
      "cell_type": "markdown",
      "source": [
        "## PLot\n"
      ],
      "metadata": {
        "id": "QcUFQpFlJ4m2"
      }
    },
    {
      "cell_type": "code",
      "source": [
        "import pandas as pd\n",
        "\n",
        "# Define the models\n",
        "models = ['VGG16', 'ResNet50', 'InceptionV3', 'Xception']\n",
        "\n",
        "# Define the metrics\n",
        "metrics = {\n",
        "    'Accuracy': [0.6826, 0.6827, 0.6828, 0.6829],  # Example values, you can change them\n",
        "    'Precision': [0.683, 0.6831, 0.6832, 0.6833],  # Example values, you can change them\n",
        "    'Recall': [0.6826, 0.6827, 0.6828, 0.6829],     # Example values, you can change them\n",
        "    'F1 Score': [0.6817, 0.6818, 0.6819, 0.6820]    # Example values, you can change them\n",
        "}\n",
        "\n",
        "# Create the DataFrame\n",
        "df = pd.DataFrame(metrics, index=models)\n",
        "\n",
        "# Print the DataFrame\n",
        "print(df)"
      ],
      "metadata": {
        "colab": {
          "base_uri": "https://localhost:8080/"
        },
        "id": "g-sRyOlyJ7q-",
        "outputId": "33a39aa0-d94e-45e8-e582-352da47a08c1"
      },
      "execution_count": 47,
      "outputs": [
        {
          "output_type": "stream",
          "name": "stdout",
          "text": [
            "             Accuracy  Precision  Recall  F1 Score\n",
            "VGG16          0.6826     0.6830  0.6826    0.6817\n",
            "ResNet50       0.6827     0.6831  0.6827    0.6818\n",
            "InceptionV3    0.6828     0.6832  0.6828    0.6819\n",
            "Xception       0.6829     0.6833  0.6829    0.6820\n"
          ]
        }
      ]
    },
    {
      "cell_type": "code",
      "source": [
        "\n",
        "\n",
        "# Plot the DataFrame as a bar chart\n",
        "df.plot(kind='bar', figsize=(10, 6))\n",
        "\n",
        "# Add title and labels\n",
        "plt.title('Model Performance Metrics')\n",
        "plt.xlabel('Models')\n",
        "plt.ylabel('Scores')\n",
        "\n",
        "# Show the plot\n",
        "plt.show()"
      ],
      "metadata": {
        "colab": {
          "base_uri": "https://localhost:8080/",
          "height": 676
        },
        "id": "URX6vtS_KRt0",
        "outputId": "582d4dca-e134-417e-8f82-2052eb23f93a"
      },
      "execution_count": 48,
      "outputs": [
        {
          "output_type": "display_data",
          "data": {
            "text/plain": [
              "<Figure size 1000x600 with 1 Axes>"
            ],
            "image/png": "[encoded data removed]"
          },
          "metadata": {}
        }
      ]
    }
  ],
  "metadata": {
    "accelerator": "GPU",
    "colab": {
      "provenance": []
    },
    "kernelspec": {
      "display_name": "Python 3 (ipykernel)",
      "language": "python",
      "name": "python3"
    },
    "language_info": {
      "codemirror_mode": {
        "name": "ipython",
        "version": 3
      },
      "file_extension": ".py",
      "mimetype": "text/x-python",
      "name": "python",
      "nbconvert_exporter": "python",
      "pygments_lexer": "ipython3",
      "version": "3.10.9"
    }
  },
  "nbformat": 4,
  "nbformat_minor": 0
}